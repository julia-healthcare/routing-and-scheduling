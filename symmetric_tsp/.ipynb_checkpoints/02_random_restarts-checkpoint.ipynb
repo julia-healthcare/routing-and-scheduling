{
 "cells": [
  {
   "cell_type": "markdown",
   "metadata": {},
   "source": [
    "# Random Restarts for the TSP Algorithm in Julia\n",
    "\n",
    "Solves the Symmetric TSP using variations on the Random Restart approach to optimisation"
   ]
  },
  {
   "cell_type": "markdown",
   "metadata": {},
   "source": [
    "# Add packages and imports"
   ]
  },
  {
   "cell_type": "code",
   "execution_count": 2,
   "metadata": {},
   "outputs": [],
   "source": [
    "#import Pkg\n",
    "#Pkg.add(\"DataFrames\")\n",
    "#Pkg.add(\"CSV\")"
   ]
  },
  {
   "cell_type": "code",
   "execution_count": 3,
   "metadata": {},
   "outputs": [],
   "source": [
    "using Distributed # for parallel processes\n",
    "using DataFrames\n",
    "using CSV\n",
    "using LinearAlgebra"
   ]
  },
  {
   "cell_type": "code",
   "execution_count": 4,
   "metadata": {},
   "outputs": [
    {
     "name": "stdout",
     "output_type": "stream",
     "text": [
      "1115"
     ]
    }
   ],
   "source": [
    "#set up extra processes for parallel runs\n",
    "print(nprocs())\n",
    "print(nworkers())\n",
    "addprocs(Sys.CPU_THREADS - 1);\n",
    "print(nworkers())"
   ]
  },
  {
   "cell_type": "code",
   "execution_count": 5,
   "metadata": {},
   "outputs": [],
   "source": [
    "@everywhere using Random"
   ]
  },
  {
   "cell_type": "markdown",
   "metadata": {},
   "source": [
    "# Load data from csv\n",
    "\n",
    "This is the 70 city problem from TSP lib."
   ]
  },
  {
   "cell_type": "code",
   "execution_count": 6,
   "metadata": {},
   "outputs": [],
   "source": [
    "st70 = CSV.read(\"data/st70.csv\");"
   ]
  },
  {
   "cell_type": "code",
   "execution_count": 7,
   "metadata": {},
   "outputs": [
    {
     "data": {
      "text/html": [
       "<table class=\"data-frame\"><thead><tr><th></th><th>city</th><th>x</th><th>y</th></tr><tr><th></th><th>Int64</th><th>Int64</th><th>Int64</th></tr></thead><tbody><p>10 rows × 3 columns</p><tr><th>1</th><td>1</td><td>64</td><td>96</td></tr><tr><th>2</th><td>2</td><td>80</td><td>39</td></tr><tr><th>3</th><td>3</td><td>69</td><td>23</td></tr><tr><th>4</th><td>4</td><td>72</td><td>42</td></tr><tr><th>5</th><td>5</td><td>48</td><td>67</td></tr><tr><th>6</th><td>6</td><td>58</td><td>43</td></tr><tr><th>7</th><td>7</td><td>81</td><td>34</td></tr><tr><th>8</th><td>8</td><td>79</td><td>17</td></tr><tr><th>9</th><td>9</td><td>30</td><td>23</td></tr><tr><th>10</th><td>10</td><td>42</td><td>67</td></tr></tbody></table>"
      ],
      "text/latex": [
       "\\begin{tabular}{r|ccc}\n",
       "\t& city & x & y\\\\\n",
       "\t\\hline\n",
       "\t& Int64 & Int64 & Int64\\\\\n",
       "\t\\hline\n",
       "\t1 & 1 & 64 & 96 \\\\\n",
       "\t2 & 2 & 80 & 39 \\\\\n",
       "\t3 & 3 & 69 & 23 \\\\\n",
       "\t4 & 4 & 72 & 42 \\\\\n",
       "\t5 & 5 & 48 & 67 \\\\\n",
       "\t6 & 6 & 58 & 43 \\\\\n",
       "\t7 & 7 & 81 & 34 \\\\\n",
       "\t8 & 8 & 79 & 17 \\\\\n",
       "\t9 & 9 & 30 & 23 \\\\\n",
       "\t10 & 10 & 42 & 67 \\\\\n",
       "\\end{tabular}\n"
      ],
      "text/plain": [
       "10×3 DataFrame\n",
       "│ Row │ city  │ x     │ y     │\n",
       "│     │ \u001b[90mInt64\u001b[39m │ \u001b[90mInt64\u001b[39m │ \u001b[90mInt64\u001b[39m │\n",
       "├─────┼───────┼───────┼───────┤\n",
       "│ 1   │ 1     │ 64    │ 96    │\n",
       "│ 2   │ 2     │ 80    │ 39    │\n",
       "│ 3   │ 3     │ 69    │ 23    │\n",
       "│ 4   │ 4     │ 72    │ 42    │\n",
       "│ 5   │ 5     │ 48    │ 67    │\n",
       "│ 6   │ 6     │ 58    │ 43    │\n",
       "│ 7   │ 7     │ 81    │ 34    │\n",
       "│ 8   │ 8     │ 79    │ 17    │\n",
       "│ 9   │ 9     │ 30    │ 23    │\n",
       "│ 10  │ 10    │ 42    │ 67    │"
      ]
     },
     "execution_count": 7,
     "metadata": {},
     "output_type": "execute_result"
    }
   ],
   "source": [
    "head(st70, 10)"
   ]
  },
  {
   "cell_type": "markdown",
   "metadata": {},
   "source": [
    "# Functions\n",
    "\n",
    "* euclidean_distance_matrix - compute cost matrix\n",
    "* trim_cities - make problem instance smaller than 70 cities!\n",
    "* tour_cost - compute cost of tour\n",
    "* tweak! - randomly swap two cities in tour\n",
    "* random_restarts - search by randomly shuffling tour for given time limit.\n",
    "* hill_climb_with_random_restarts - shuffle tour then climb for a fraction of the total time limit; repeat until all time budget is used up."
   ]
  },
  {
   "cell_type": "code",
   "execution_count": 8,
   "metadata": {},
   "outputs": [
    {
     "data": {
      "text/plain": [
       "euclidean_distance_matrix"
      ]
     },
     "execution_count": 8,
     "metadata": {},
     "output_type": "execute_result"
    }
   ],
   "source": [
    "\"\"\"\n",
    "    euclidean_distance_matrix(cities)\n",
    "\n",
    "Compute a matrix of euclidean distances between\n",
    "city x, y coordinate pairs\n",
    "\n",
    "# Arguments\n",
    "- cities::Array: n x 2 matrix of x, y coordinates\n",
    "\n",
    "# Examples\n",
    "```julia-repl \n",
    "julia> using Random;\n",
    "\n",
    "julia> Random.seed!(42);\n",
    "\n",
    "julia> coords = rand(1:50, 5, 2)\n",
    "5×2 Array{Int64,2}:\n",
    " 16  42\n",
    " 10  15\n",
    " 44  36\n",
    " 32  42\n",
    " 28  39\n",
    "\n",
    "julia> euclidean_distance_matrix(coords)\n",
    "5×5 Array{Float64,2}:\n",
    "  0.0     27.6586  28.6356  16.0     12.3693\n",
    " 27.6586   0.0     39.9625  34.8281  30.0\n",
    " 28.6356  39.9625   0.0     13.4164  16.2788\n",
    " 16.0     34.8281  13.4164   0.0      5.0\n",
    " 12.3693  30.0     16.2788   5.0      0.0\n",
    "```\n",
    "\"\"\"\n",
    "function euclidean_distance_matrix(cities)\n",
    "    nrows = size(cities)[1]\n",
    "    matrix = zeros(nrows, nrows)\n",
    "    \n",
    "    row = 1\n",
    "    \n",
    "    for city1 in 1:nrows\n",
    "        col = 1\n",
    "        for city2 in 1:nrows\n",
    "            matrix[row, col] = norm(cities[city1, 1:2]-cities[city2, 1:2])\n",
    "            col+=1\n",
    "        end\n",
    "        row +=1\n",
    "    end\n",
    "        \n",
    "    return matrix\n",
    "end"
   ]
  },
  {
   "cell_type": "code",
   "execution_count": 9,
   "metadata": {},
   "outputs": [
    {
     "data": {
      "text/plain": [
       "trim_cities (generic function with 1 method)"
      ]
     },
     "execution_count": 9,
     "metadata": {},
     "output_type": "execute_result"
    }
   ],
   "source": [
    "trim_cities(df, ncities) = Array(df[2:end])[1:ncities, :]"
   ]
  },
  {
   "cell_type": "code",
   "execution_count": 10,
   "metadata": {},
   "outputs": [],
   "source": [
    "@everywhere begin\n",
    "\n",
    "\"\"\"\n",
    "    tour_cost(tour, matrix)\n",
    "\n",
    "Compute the travel cost of tour using\n",
    "the cost matrix\n",
    "\"\"\"\n",
    "function tour_cost(tour, matrix)\n",
    "    cost::Float64 = 0.0\n",
    "    \n",
    "    for i in 1:size(tour)[1] - 1\n",
    "        cost += matrix[tour[i], tour[i+1]]\n",
    "    end\n",
    "    \n",
    "    cost += matrix[tour[end], tour[1]]\n",
    "    \n",
    "    return cost\n",
    "end\n",
    "\n",
    "end"
   ]
  },
  {
   "cell_type": "code",
   "execution_count": 11,
   "metadata": {},
   "outputs": [],
   "source": [
    "@everywhere begin\n",
    "    \n",
    "\"\"\"\n",
    "    simple_tweak(tour)\n",
    "\n",
    "Randomly select to elements within the \n",
    "vector tour and swap them\n",
    "\"\"\"\n",
    "function simple_tweak(tour)\n",
    "    sample = rand(1:size(tour)[1], 1, 2)\n",
    "    tour[sample[1]], tour[sample[2]] = tour[sample[2]], tour[sample[1]]\n",
    "    return tour\n",
    "end\n",
    "\n",
    "end"
   ]
  },
  {
   "cell_type": "code",
   "execution_count": 12,
   "metadata": {},
   "outputs": [
    {
     "data": {
      "text/plain": [
       "tweak_two_opt (generic function with 1 method)"
      ]
     },
     "execution_count": 12,
     "metadata": {},
     "output_type": "execute_result"
    }
   ],
   "source": [
    "function tweak_two_opt(tour)\n",
    "    sample = rand(1:size(tour)[1], 1, 2)\n",
    "    tour = reverse(tour, tour[sample[1]], tour[sample[2]])\n",
    "    return tour\n",
    "end"
   ]
  },
  {
   "cell_type": "markdown",
   "metadata": {},
   "source": [
    "# Algorithm"
   ]
  },
  {
   "cell_type": "code",
   "execution_count": 13,
   "metadata": {},
   "outputs": [],
   "source": [
    "@everywhere function random_restarts(init_solution, matrix; time_limit=2)\n",
    "    best = copy(init_solution)\n",
    "    best_cost = -tour_cost(best, matrix)\n",
    "    \n",
    "    start = time()\n",
    "    iter = 0\n",
    "    while (time() - start) < time_limit\n",
    "        iter += 1\n",
    "        neighbour = shuffle(copy(best))\n",
    "        neighbour_cost = -tour_cost(neighbour, matrix)\n",
    "        \n",
    "        if neighbour_cost > best_cost\n",
    "            best, best_cost = neighbour, neighbour_cost\n",
    "        end\n",
    "    end\n",
    "    \n",
    "    return -best_cost, best, iter\n",
    "end "
   ]
  },
  {
   "cell_type": "code",
   "execution_count": 16,
   "metadata": {},
   "outputs": [],
   "source": [
    "@everywhere function random_restarts(init_solution, matrix; maxiter=1000)\n",
    "    best = copy(init_solution)\n",
    "    best_cost = -tour_cost(best, matrix)\n",
    "    \n",
    "    \n",
    "    iter = 1\n",
    "    while iter < maxiter\n",
    "        iter += 1\n",
    "        neighbour = shuffle(neighbour)\n",
    "        neighbour_cost = -tour_cost(neighbour, matrix)\n",
    "        \n",
    "        if neighbour_cost > best_cost\n",
    "            best, best_cost = neighbour, neighbour_cost\n",
    "        end\n",
    "    end\n",
    "    \n",
    "    return -best_cost, best, iter\n",
    "end "
   ]
  },
  {
   "cell_type": "code",
   "execution_count": 17,
   "metadata": {},
   "outputs": [],
   "source": [
    "@everywhere begin\n",
    "\"\"\"\n",
    "    simple_tweak(tour)\n",
    "\n",
    "Randomly select to elements within the \n",
    "vector tour and swap them\n",
    "\"\"\"\n",
    "function simple_tweak(tour)\n",
    "    sample = rand(1:size(tour)[1], 1, 2)\n",
    "    tour[sample[1]], tour[sample[2]] = tour[sample[2]], tour[sample[1]]\n",
    "    return tour\n",
    "end\n",
    "\n",
    "end"
   ]
  },
  {
   "cell_type": "code",
   "execution_count": 18,
   "metadata": {},
   "outputs": [],
   "source": [
    "@everywhere begin\n",
    "\"\"\"\n",
    "    tweak_two_opt(tour)\n",
    "\n",
    "Randomly select to elements within the \n",
    "vector tour and reverse the route\n",
    "\n",
    "e.g. \n",
    "[1, 2, 3, 4, 5, 6, 7, 8]\n",
    "\n",
    "if elements 2 and 5 are selected then the result is:\n",
    "[1, 5, 4, 3, 2, 6, 7, 8]\n",
    "\"\"\"\n",
    "function tweak_two_opt(tour)\n",
    "    sample = rand(1:size(tour)[1], 1, 2)\n",
    "    tour = reverse(tour, tour[sample[1]], tour[sample[2]])\n",
    "    return tour\n",
    "end\n",
    "\n",
    "end"
   ]
  },
  {
   "cell_type": "code",
   "execution_count": 19,
   "metadata": {},
   "outputs": [
    {
     "data": {
      "text/plain": [
       "\"    hill_climb_with_random_restarts(init_solution, matrix; time_limit=2)\\n\\nBreaks runtime into hill climbing for a period of time and then restarting\\nthe climb from a different random initial solution.\\n\\n\""
      ]
     },
     "execution_count": 19,
     "metadata": {},
     "output_type": "execute_result"
    }
   ],
   "source": [
    "\"\"\"\n",
    "    hill_climb_with_random_restarts(init_solution, matrix; time_limit=2)\n",
    "\n",
    "Breaks runtime into hill climbing for a period of time and then restarting\n",
    "the climb from a different random initial solution.\n",
    "\n",
    "\"\"\""
   ]
  },
  {
   "cell_type": "code",
   "execution_count": 43,
   "metadata": {},
   "outputs": [],
   "source": [
    "@everywhere function hill_climb_with_random_restarts(init_solution, matrix; time_limit=2.0, \n",
    "                                         tweak=simple_tweak)\n",
    "\n",
    "    S = shuffle(init_solution)\n",
    "    S_cost = -tour_cost(S, matrix)\n",
    "    \n",
    "    best, best_cost = copy(S), S_cost\n",
    "    \n",
    "    start = time()\n",
    "    while (time() - start) < time_limit\n",
    "        climbing_time = rand(0: time_limit - (time() - start))\n",
    "        climb_start = time()\n",
    "        \n",
    "        while (time() - climb_start) < climbing_time\n",
    "            R = tweak(copy(S))\n",
    "            R_cost = -tour_cost(R, matrix)\n",
    "\n",
    "            if R_cost > S_cost\n",
    "                S, S_cost = copy(R), R_cost\n",
    "            end\n",
    "        \n",
    "        end\n",
    "        \n",
    "        if S_cost > best_cost\n",
    "            best, best_cost = copy(S), S_cost\n",
    "        end\n",
    "        \n",
    "        S = shuffle(init_solution)\n",
    "        S_cost -tour_cost(S, matrix)\n",
    "    end\n",
    "    \n",
    "    return -best_cost, best\n",
    "    \n",
    "end"
   ]
  },
  {
   "cell_type": "markdown",
   "metadata": {},
   "source": [
    "# Example solution"
   ]
  },
  {
   "cell_type": "code",
   "execution_count": 59,
   "metadata": {},
   "outputs": [
    {
     "name": "stdout",
     "output_type": "stream",
     "text": [
      "  2.000007 seconds (19.37 M allocations: 3.557 GiB, 5.42% gc time)\n",
      "  5.000004 seconds (73.00 M allocations: 13.147 GiB, 7.86% gc time)\n",
      "(396.7043800775278, [6, 5, 10, 11, 12, 17, 9, 20, 14, 3, 8, 7, 2, 19, 15, 13, 1, 16, 4, 18])\n",
      "(362.3478303531909, [14, 20, 8, 19, 15, 13, 1, 16, 5, 10, 11, 12, 9, 17, 6, 18, 4, 2, 7, 3])\n"
     ]
    }
   ],
   "source": [
    "Random.seed!(42);\n",
    "\n",
    "n_patients = 20\n",
    "coords = trim_cities(st70, n_patients);\n",
    "matrix = euclidean_distance_matrix(coords);\n",
    "tour = [i for i in 1:n_patients];\n",
    "\n",
    "# tweak with 2 opt.\n",
    "@time result1 = hill_climb_with_random_restarts(tour, matrix, time_limit=2.0,\n",
    "                                                tweak=tweak_two_opt)\n",
    "\n",
    "#reset random seed\n",
    "Random.seed!(42);\n",
    "\n",
    "#extra time\n",
    "@time result2 = hill_climb_with_random_restarts(tour, matrix, time_limit=5.0,\n",
    "                                                tweak=tweak_two_opt)\n",
    "\n",
    "println(result1)\n",
    "println(result2)"
   ]
  },
  {
   "cell_type": "code",
   "execution_count": 60,
   "metadata": {},
   "outputs": [
    {
     "name": "stdout",
     "output_type": "stream",
     "text": [
      "  1.253598 seconds (10.00 M allocations: 2.235 GiB, 3.09% gc time)\n"
     ]
    },
    {
     "data": {
      "text/plain": [
       "(496.73494086967065, [2, 7, 14, 3, 19, 15, 13, 1, 16, 10, 5, 11, 12, 4, 8, 20, 6, 17, 9, 18], 5000000)"
      ]
     },
     "execution_count": 60,
     "metadata": {},
     "output_type": "execute_result"
    }
   ],
   "source": [
    "#weird behaviour on the parrallel run so use maxiter instead.\n",
    "@time random_restarts(tour, matrix, maxiter=5_000_000)"
   ]
  },
  {
   "cell_type": "code",
   "execution_count": 48,
   "metadata": {},
   "outputs": [
    {
     "name": "stdout",
     "output_type": "stream",
     "text": [
      "  2.000006 seconds (18.85 M allocations: 3.091 GiB, 5.91% gc time)\n"
     ]
    },
    {
     "data": {
      "text/plain": [
       "(447.97855141410844, [12, 11, 10, 5, 16, 1, 13, 14, 20, 8, 7, 2, 4, 18, 6, 15, 19, 3, 9, 17])"
      ]
     },
     "execution_count": 48,
     "metadata": {},
     "output_type": "execute_result"
    }
   ],
   "source": [
    "@time hill_climb_with_random_restarts(tour, matrix)"
   ]
  },
  {
   "cell_type": "code",
   "execution_count": 49,
   "metadata": {},
   "outputs": [
    {
     "name": "stdout",
     "output_type": "stream",
     "text": [
      "  2.033900 seconds (35.75 M allocations: 6.388 GiB, 9.38% gc time)\n"
     ]
    },
    {
     "data": {
      "text/plain": [
       "(367.9963120916786, [17, 6, 18, 4, 3, 14, 20, 8, 19, 7, 2, 15, 13, 1, 16, 5, 10, 11, 12, 9])"
      ]
     },
     "execution_count": 49,
     "metadata": {},
     "output_type": "execute_result"
    }
   ],
   "source": []
  },
  {
   "cell_type": "markdown",
   "metadata": {},
   "source": [
    "# Running the algorithms multiple times in parrallel\n",
    "\n",
    "Note the use of @everywhere in the function definitions. This means that different workers can access them."
   ]
  },
  {
   "cell_type": "code",
   "execution_count": 36,
   "metadata": {},
   "outputs": [],
   "source": [
    "# schedule the parallel jobs\n",
    "\n",
    "n_jobs = Sys.CPU_THREADS - 1\n",
    "jobs = []\n",
    "\n",
    "for i in 1:n_jobs\n",
    "    push!(jobs, remotecall(random_restarts, i+1, tour, matrix, maxiter=5_000_000))\n",
    "end"
   ]
  },
  {
   "cell_type": "code",
   "execution_count": 37,
   "metadata": {},
   "outputs": [
    {
     "data": {
      "text/plain": [
       "15-element Array{Any,1}:\n",
       " Future(2, 1, 347, nothing)\n",
       " Future(3, 1, 348, nothing)\n",
       " Future(4, 1, 349, nothing)\n",
       " Future(5, 1, 350, nothing)\n",
       " Future(6, 1, 351, nothing)\n",
       " Future(7, 1, 352, nothing)\n",
       " Future(8, 1, 353, nothing)\n",
       " Future(9, 1, 354, nothing)\n",
       " Future(10, 1, 355, nothing)\n",
       " Future(11, 1, 356, nothing)\n",
       " Future(12, 1, 357, nothing)\n",
       " Future(13, 1, 358, nothing)\n",
       " Future(14, 1, 359, nothing)\n",
       " Future(15, 1, 360, nothing)\n",
       " Future(16, 1, 361, nothing)"
      ]
     },
     "execution_count": 37,
     "metadata": {},
     "output_type": "execute_result"
    }
   ],
   "source": [
    "jobs"
   ]
  },
  {
   "cell_type": "code",
   "execution_count": 38,
   "metadata": {},
   "outputs": [
    {
     "name": "stdout",
     "output_type": "stream",
     "text": [
      "  0.944520 seconds (1.44 k allocations: 52.188 KiB)\n"
     ]
    },
    {
     "data": {
      "text/plain": [
       "15-element Array{Tuple{Float64,Array{Int64,1},Int64},1}:\n",
       " (524.0148396469099, [4, 3, 9, 12, 10, 17, 8, 14, 20, 19, 7, 2, 15, 5, 11, 16, 1, 13, 6, 18], 5000000)\n",
       " (514.2028593387439, [12, 11, 10, 5, 13, 1, 16, 18, 7, 4, 6, 8, 19, 2, 3, 20, 14, 15, 9, 17], 5000000)\n",
       " (522.2466763786309, [12, 20, 14, 17, 8, 3, 7, 19, 15, 18, 2, 4, 6, 9, 11, 1, 13, 16, 10, 5], 5000000)\n",
       " (518.9553697574013, [12, 11, 10, 5, 7, 2, 19, 15, 16, 1, 13, 6, 8, 14, 20, 17, 9, 18, 4, 3], 5000000)\n",
       " (504.8671180674434, [19, 2, 18, 4, 15, 1, 13, 5, 16, 11, 10, 17, 9, 12, 6, 7, 20, 14, 8, 3], 5000000)\n",
       " (511.0803398169069, [20, 14, 3, 8, 19, 7, 2, 13, 15, 1, 16, 11, 5, 10, 4, 18, 12, 6, 17, 9], 5000000)\n",
       " (528.5774055669012, [1, 16, 13, 6, 17, 9, 12, 11, 20, 2, 8, 14, 3, 7, 19, 15, 4, 18, 10, 5], 5000000)\n",
       " (541.3349607505169, [2, 7, 6, 3, 15, 8, 14, 20, 9, 17, 10, 1, 13, 5, 12, 11, 16, 18, 4, 19], 5000000)\n",
       " (485.7924228787253, [16, 11, 12, 10, 5, 6, 3, 7, 15, 8, 20, 14, 9, 17, 4, 2, 19, 18, 13, 1], 5000000)\n",
       " (535.6508452961814, [9, 17, 14, 20, 8, 7, 3, 2, 18, 11, 5, 10, 12, 16, 1, 13, 15, 6, 4, 19], 5000000)\n",
       " (520.641165344022, [10, 12, 11, 6, 4, 15, 2, 7, 18, 20, 14, 8, 3, 19, 17, 9, 5, 13, 16, 1], 5000000)\n",
       " (534.5222706745178, [18, 7, 19, 2, 20, 14, 3, 15, 4, 8, 17, 9, 5, 1, 16, 13, 11, 12, 10, 6], 5000000)\n",
       " (528.3184979926202, [12, 5, 10, 16, 1, 13, 6, 8, 19, 7, 3, 20, 14, 9, 15, 4, 18, 2, 17, 11], 5000000)\n",
       " (504.9636723973398, [7, 19, 18, 3, 8, 6, 4, 20, 14, 9, 17, 12, 11, 10, 13, 16, 5, 1, 15, 2], 5000000)\n",
       " (514.4316022517044, [2, 20, 14, 19, 15, 13, 16, 1, 10, 11, 12, 9, 8, 3, 7, 6, 17, 5, 18, 4], 5000000)"
      ]
     },
     "execution_count": 38,
     "metadata": {},
     "output_type": "execute_result"
    }
   ],
   "source": [
    "#this is currently doing something odd when running with time!  so restrict to maxiter\n",
    "@time results = [fetch(job) for job in jobs]"
   ]
  },
  {
   "cell_type": "code",
   "execution_count": null,
   "metadata": {},
   "outputs": [],
   "source": []
  }
 ],
 "metadata": {
  "kernelspec": {
   "display_name": "Julia 1.5.0",
   "language": "julia",
   "name": "julia-1.5"
  },
  "language_info": {
   "file_extension": ".jl",
   "mimetype": "application/julia",
   "name": "julia",
   "version": "1.5.0"
  }
 },
 "nbformat": 4,
 "nbformat_minor": 4
}
