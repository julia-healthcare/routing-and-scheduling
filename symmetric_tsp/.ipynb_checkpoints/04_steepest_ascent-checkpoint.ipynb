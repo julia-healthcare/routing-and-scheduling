{
 "cells": [
  {
   "cell_type": "markdown",
   "metadata": {},
   "source": [
    "# Steep Ascent Local Search\n",
    "\n",
    "Solves the Symmetric TSP using Steepest Ascent Local Search\n",
    "\n",
    "This is a variation on first improvement hill climbing.  Instead of taking the first improvement we search all neighbours and take the best (steepest gradient) path."
   ]
  },
  {
   "cell_type": "markdown",
   "metadata": {},
   "source": [
    "# Add packages and imports"
   ]
  },
  {
   "cell_type": "code",
   "execution_count": 2,
   "metadata": {},
   "outputs": [],
   "source": [
    "# import Pkg\n",
    "#Pkg.add(\"DataFrames\")\n",
    "#Pkg.add(\"CSV\")"
   ]
  },
  {
   "cell_type": "code",
   "execution_count": 3,
   "metadata": {},
   "outputs": [],
   "source": [
    "using Distributed\n",
    "using DataFrames\n",
    "using CSV\n",
    "using LinearAlgebra\n",
    "@everywhere using Random"
   ]
  },
  {
   "cell_type": "code",
   "execution_count": 4,
   "metadata": {},
   "outputs": [
    {
     "name": "stdout",
     "output_type": "stream",
     "text": [
      "1\n",
      "1\n"
     ]
    }
   ],
   "source": [
    "#set up extra processes for parallel runs\n",
    "println(nprocs())\n",
    "println(nworkers())"
   ]
  },
  {
   "cell_type": "code",
   "execution_count": 5,
   "metadata": {},
   "outputs": [
    {
     "name": "stdout",
     "output_type": "stream",
     "text": [
      "15\n"
     ]
    }
   ],
   "source": [
    "addprocs(Sys.CPU_THREADS - 1);\n",
    "println(nworkers())"
   ]
  },
  {
   "cell_type": "markdown",
   "metadata": {},
   "source": [
    "# Load data from csv\n",
    "\n",
    "This is the 70 city problem from TSP lib."
   ]
  },
  {
   "cell_type": "code",
   "execution_count": 6,
   "metadata": {},
   "outputs": [],
   "source": [
    "st70 = CSV.read(\"data/st70.csv\");"
   ]
  },
  {
   "cell_type": "code",
   "execution_count": 7,
   "metadata": {},
   "outputs": [
    {
     "data": {
      "text/html": [
       "<table class=\"data-frame\"><thead><tr><th></th><th>city</th><th>x</th><th>y</th></tr><tr><th></th><th>Int64</th><th>Int64</th><th>Int64</th></tr></thead><tbody><p>10 rows × 3 columns</p><tr><th>1</th><td>1</td><td>64</td><td>96</td></tr><tr><th>2</th><td>2</td><td>80</td><td>39</td></tr><tr><th>3</th><td>3</td><td>69</td><td>23</td></tr><tr><th>4</th><td>4</td><td>72</td><td>42</td></tr><tr><th>5</th><td>5</td><td>48</td><td>67</td></tr><tr><th>6</th><td>6</td><td>58</td><td>43</td></tr><tr><th>7</th><td>7</td><td>81</td><td>34</td></tr><tr><th>8</th><td>8</td><td>79</td><td>17</td></tr><tr><th>9</th><td>9</td><td>30</td><td>23</td></tr><tr><th>10</th><td>10</td><td>42</td><td>67</td></tr></tbody></table>"
      ],
      "text/latex": [
       "\\begin{tabular}{r|ccc}\n",
       "\t& city & x & y\\\\\n",
       "\t\\hline\n",
       "\t& Int64 & Int64 & Int64\\\\\n",
       "\t\\hline\n",
       "\t1 & 1 & 64 & 96 \\\\\n",
       "\t2 & 2 & 80 & 39 \\\\\n",
       "\t3 & 3 & 69 & 23 \\\\\n",
       "\t4 & 4 & 72 & 42 \\\\\n",
       "\t5 & 5 & 48 & 67 \\\\\n",
       "\t6 & 6 & 58 & 43 \\\\\n",
       "\t7 & 7 & 81 & 34 \\\\\n",
       "\t8 & 8 & 79 & 17 \\\\\n",
       "\t9 & 9 & 30 & 23 \\\\\n",
       "\t10 & 10 & 42 & 67 \\\\\n",
       "\\end{tabular}\n"
      ],
      "text/plain": [
       "10×3 DataFrame\n",
       "│ Row │ city  │ x     │ y     │\n",
       "│     │ \u001b[90mInt64\u001b[39m │ \u001b[90mInt64\u001b[39m │ \u001b[90mInt64\u001b[39m │\n",
       "├─────┼───────┼───────┼───────┤\n",
       "│ 1   │ 1     │ 64    │ 96    │\n",
       "│ 2   │ 2     │ 80    │ 39    │\n",
       "│ 3   │ 3     │ 69    │ 23    │\n",
       "│ 4   │ 4     │ 72    │ 42    │\n",
       "│ 5   │ 5     │ 48    │ 67    │\n",
       "│ 6   │ 6     │ 58    │ 43    │\n",
       "│ 7   │ 7     │ 81    │ 34    │\n",
       "│ 8   │ 8     │ 79    │ 17    │\n",
       "│ 9   │ 9     │ 30    │ 23    │\n",
       "│ 10  │ 10    │ 42    │ 67    │"
      ]
     },
     "execution_count": 7,
     "metadata": {},
     "output_type": "execute_result"
    }
   ],
   "source": [
    "head(st70, 10)"
   ]
  },
  {
   "cell_type": "markdown",
   "metadata": {},
   "source": [
    "# Functions\n",
    "\n",
    "* euclidean_distance_matrix - compute cost matrix\n",
    "* trim_cities - make problem instance smaller than 70 cities!\n",
    "* tour_cost - compute cost of tour\n",
    "* tweak! - randomly swap two cities in tour\n",
    "* steepest_ascent - take the best improvement found."
   ]
  },
  {
   "cell_type": "code",
   "execution_count": 8,
   "metadata": {},
   "outputs": [
    {
     "data": {
      "text/plain": [
       "euclidean_distance_matrix"
      ]
     },
     "execution_count": 8,
     "metadata": {},
     "output_type": "execute_result"
    }
   ],
   "source": [
    "\"\"\"\n",
    "    euclidean_distance_matrix(cities)\n",
    "\n",
    "Compute a matrix of euclidean distances between\n",
    "city x, y coordinate pairs\n",
    "\n",
    "# Arguments\n",
    "- cities::Array: n x 2 matrix of x, y coordinates\n",
    "\n",
    "# Examples\n",
    "```julia-repl \n",
    "julia> using Random;\n",
    "\n",
    "julia> Random.seed!(42);\n",
    "\n",
    "julia> coords = rand(1:50, 5, 2)\n",
    "5×2 Array{Int64,2}:\n",
    " 16  42\n",
    " 10  15\n",
    " 44  36\n",
    " 32  42\n",
    " 28  39\n",
    "\n",
    "julia> euclidean_distance_matrix(coords)\n",
    "5×5 Array{Float64,2}:\n",
    "  0.0     27.6586  28.6356  16.0     12.3693\n",
    " 27.6586   0.0     39.9625  34.8281  30.0\n",
    " 28.6356  39.9625   0.0     13.4164  16.2788\n",
    " 16.0     34.8281  13.4164   0.0      5.0\n",
    " 12.3693  30.0     16.2788   5.0      0.0\n",
    "```\n",
    "\"\"\"\n",
    "function euclidean_distance_matrix(cities)\n",
    "    nrows = size(cities)[1]\n",
    "    matrix = zeros(nrows, nrows)\n",
    "    \n",
    "    row = 1\n",
    "    \n",
    "    for city1 in 1:nrows\n",
    "        col = 1\n",
    "        for city2 in 1:nrows\n",
    "            matrix[row, col] = norm(cities[city1, 1:2]-cities[city2, 1:2])\n",
    "            col+=1\n",
    "        end\n",
    "        row +=1\n",
    "    end\n",
    "        \n",
    "    return matrix\n",
    "end"
   ]
  },
  {
   "cell_type": "code",
   "execution_count": 9,
   "metadata": {},
   "outputs": [
    {
     "data": {
      "text/plain": [
       "trim_cities (generic function with 1 method)"
      ]
     },
     "execution_count": 9,
     "metadata": {},
     "output_type": "execute_result"
    }
   ],
   "source": [
    "trim_cities(df, ncities) = Array(df[2:end])[1:ncities, :]"
   ]
  },
  {
   "cell_type": "code",
   "execution_count": 10,
   "metadata": {},
   "outputs": [
    {
     "data": {
      "text/plain": [
       "tour_cost"
      ]
     },
     "execution_count": 10,
     "metadata": {},
     "output_type": "execute_result"
    }
   ],
   "source": [
    "\"\"\"\n",
    "    tour_cost(tour, matrix)\n",
    "\n",
    "Compute the travel cost of tour using\n",
    "the cost matrix\n",
    "\"\"\"\n",
    "function tour_cost(tour, matrix)\n",
    "    cost = 0.0\n",
    "    for i in 1:size(tour)[1] - 1\n",
    "        cost += matrix[tour[i], tour[i+1]]\n",
    "    end\n",
    "    \n",
    "    cost += matrix[tour[end], tour[1]]\n",
    "    \n",
    "    return cost\n",
    "end"
   ]
  },
  {
   "cell_type": "code",
   "execution_count": 11,
   "metadata": {},
   "outputs": [],
   "source": [
    "@everywhere begin\n",
    "\"\"\"\n",
    "    simple_tweak!(tour)\n",
    "\n",
    "Simple swap of elemements in an array\n",
    "Note this modifies the input array\n",
    "This is more efficient than returning a copy.\n",
    "\"\"\"\n",
    "function simple_tweak!(tour, i, j)\n",
    "    tour[i], tour[j] = tour[j], tour[i]\n",
    "end\n",
    "    \n",
    "end"
   ]
  },
  {
   "cell_type": "code",
   "execution_count": 12,
   "metadata": {},
   "outputs": [],
   "source": [
    "@everywhere function tweak_two_opt!(tour, i, j)\n",
    "    reverse!(tour, i, j)\n",
    "end"
   ]
  },
  {
   "cell_type": "markdown",
   "metadata": {},
   "source": [
    "# Algorithm"
   ]
  },
  {
   "cell_type": "code",
   "execution_count": 26,
   "metadata": {},
   "outputs": [],
   "source": [
    "@everywhere begin\n",
    "\"\"\"\n",
    "    steepest_ascent(init_solution, matrix; time_limit=2.0, tweak!=simple_tweak!)\n",
    "\n",
    "First improvement local search\n",
    "\n",
    "Iteratively test candidate solutions in the neigbourhood\n",
    "of the best solution and adopt the first improvement found.\n",
    "Executes until time_limit is reached (default 2 seconds) or no improvements\n",
    "found.\n",
    "\n",
    "# Arguments\n",
    "\n",
    "- intial_solution::Array: initial tour\n",
    "- matrix::Array 2x2. costs of travel\n",
    "- time_limit::int64: maximum run time\n",
    "- tweak::func(tour::Array, i::Int, j::Int): tweak function modifies tour in place\n",
    "    default = simple_tweak!\n",
    "\n",
    "# Returns\n",
    "- Tuple (best_cost, best_solution)\n",
    "\n",
    "# Examples\n",
    "```julia-repl \n",
    "julia> using Random;\n",
    "\n",
    "julia> Random.seed!(42);\n",
    "\n",
    "julia> coords = rand(1:50, 5, 2)\n",
    "5×2 Array{Int64,2}:\n",
    " 16  42\n",
    " 10  15\n",
    " 44  36\n",
    " 32  42\n",
    " 28  39\n",
    "\n",
    "julia> matrix = euclidean_distance_matrix(coords)\n",
    "5×5 Array{Float64,2}:\n",
    "  0.0     27.6586  28.6356  16.0     12.3693\n",
    " 27.6586   0.0     39.9625  34.8281  30.0\n",
    " 28.6356  39.9625   0.0     13.4164  16.2788\n",
    " 16.0     34.8281  13.4164   0.0      5.0\n",
    " 12.3693  30.0     16.2788   5.0      0.0\n",
    "\n",
    "julia> tour = [i for i in 1:size(coords)[1]] \n",
    "5-element Array{Int64,1}:\n",
    " 1\n",
    " 2\n",
    " 3\n",
    " 4\n",
    " 5\n",
    "\n",
    "julia> steepest_ascent(shuffle(tour), matrix)\n",
    "(98.40684051910655, [5, 1, 4, 3, 2])\n",
    "```\n",
    "\"\"\"\n",
    "function steepest_ascent(init_solution, matrix; time_limit=2.0, tweak=simple_tweak!)\n",
    "        \n",
    "    best = copy(init_solution)\n",
    "    best_cost = -tour_cost(init_solution, matrix)\n",
    "    n_cities = size(init_solution)[1]\n",
    "    \n",
    "    #candidate solution\n",
    "    candidate = copy(init_solution)\n",
    "    \n",
    "    start = time()\n",
    "    improvement = true\n",
    "    best_city_i = 1\n",
    "    best_city_j = 2\n",
    "    \n",
    "    while improvement && (time() - start) < time_limit\n",
    "        improvement = false\n",
    "    \n",
    "        for city_i in 1:n_cities\n",
    "            for city_j in city_i+1:n_cities\n",
    "                tweak(candidate, city_i, city_j)\n",
    "                cost = -tour_cost(candidate, matrix)\n",
    "                \n",
    "                if cost > best_cost\n",
    "                    best_cost = cost\n",
    "                    best_city_i = city_i\n",
    "                    best_city_j = city_j\n",
    "                    improvement = true\n",
    "                end\n",
    "                \n",
    "                #reverse swap and continue search\n",
    "                tweak(candidate, city_i, city_j)\n",
    "                            \n",
    "            #revert to best found\n",
    "            tweak(candidate, best_city_i, best_city_j)\n",
    "            \n",
    "            best = copy(candidate)        \n",
    "                    \n",
    "            end\n",
    "        end\n",
    "    end\n",
    "    \n",
    "    return -best_cost, best\n",
    "end\n",
    "   \n",
    "#end @everywhere\n",
    "end"
   ]
  },
  {
   "cell_type": "markdown",
   "metadata": {},
   "source": [
    "# Example solution"
   ]
  },
  {
   "cell_type": "code",
   "execution_count": 27,
   "metadata": {},
   "outputs": [
    {
     "name": "stdout",
     "output_type": "stream",
     "text": [
      "  0.032372 seconds (35.46 k allocations: 1.949 MiB)\n",
      "  0.029894 seconds (68.49 k allocations: 3.482 MiB)\n",
      "(383.1620241548598, [5, 10, 11, 12, 9, 17, 18, 2, 7, 19, 8, 14, 20, 3, 6, 4, 15, 13, 1, 16])\n",
      "(373.89049359402355, [8, 19, 7, 2, 4, 15, 13, 1, 16, 11, 10, 5, 12, 9, 17, 6, 18, 3, 14, 20])\n"
     ]
    }
   ],
   "source": [
    "Random.seed!(42);\n",
    "\n",
    "coords = trim_cities(st70, 20);\n",
    "matrix = euclidean_distance_matrix(coords)\n",
    "tour = [i for i in 1:size(coords)[1]]\n",
    "\n",
    "# add solution code\n",
    "@time results1  = steepest_ascent(shuffle(tour), matrix)\n",
    "\n",
    "Random.seed!(42);\n",
    "@time results2 = steepest_ascent(shuffle(tour), matrix, tweak=tweak_two_opt!)\n",
    "\n",
    "println(results1)\n",
    "println(results2)"
   ]
  },
  {
   "cell_type": "code",
   "execution_count": 24,
   "metadata": {},
   "outputs": [
    {
     "data": {
      "text/plain": [
       "(98.40684051910655, [5, 1, 4, 3, 2])"
      ]
     },
     "execution_count": 24,
     "metadata": {},
     "output_type": "execute_result"
    }
   ],
   "source": [
    "Random.seed!(42);\n",
    "\n",
    "coords = rand(1:50, 5, 2)\n",
    "matrix = euclidean_distance_matrix(coords)\n",
    "tour = [i for i in 1:size(coords)[1]] \n",
    "steepest_ascent(shuffle(tour), matrix)"
   ]
  },
  {
   "cell_type": "code",
   "execution_count": null,
   "metadata": {},
   "outputs": [],
   "source": []
  }
 ],
 "metadata": {
  "kernelspec": {
   "display_name": "Julia 1.5.0",
   "language": "julia",
   "name": "julia-1.5"
  },
  "language_info": {
   "file_extension": ".jl",
   "mimetype": "application/julia",
   "name": "julia",
   "version": "1.5.0"
  }
 },
 "nbformat": 4,
 "nbformat_minor": 4
}
