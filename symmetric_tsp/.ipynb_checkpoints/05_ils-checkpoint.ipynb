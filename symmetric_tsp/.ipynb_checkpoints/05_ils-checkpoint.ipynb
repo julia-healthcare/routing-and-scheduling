{
 "cells": [
  {
   "cell_type": "markdown",
   "metadata": {},
   "source": [
    "# Iteratied Local Search TSP Algorithm in Julia\n",
    "\n",
    "Solves the Symmetric TSP using a Iterated Search with Random Restarts metaheuristic"
   ]
  },
  {
   "cell_type": "markdown",
   "metadata": {},
   "source": [
    "# Add packages and imports"
   ]
  },
  {
   "cell_type": "code",
   "execution_count": 1,
   "metadata": {},
   "outputs": [],
   "source": [
    "# import Pkg\n",
    "#Pkg.add(\"DataFrames\")\n",
    "#Pkg.add(\"CSV\")"
   ]
  },
  {
   "cell_type": "code",
   "execution_count": 13,
   "metadata": {},
   "outputs": [],
   "source": [
    "using Distributed\n",
    "using DataFrames\n",
    "using CSV\n",
    "using LinearAlgebra\n",
    "@everywhere using Random"
   ]
  },
  {
   "cell_type": "markdown",
   "metadata": {},
   "source": [
    "# Load data from csv\n",
    "\n",
    "This is the 70 city problem from TSP lib."
   ]
  },
  {
   "cell_type": "code",
   "execution_count": 14,
   "metadata": {},
   "outputs": [],
   "source": [
    "st70 = CSV.read(\"data/st70.csv\");"
   ]
  },
  {
   "cell_type": "code",
   "execution_count": 15,
   "metadata": {},
   "outputs": [
    {
     "data": {
      "text/html": [
       "<table class=\"data-frame\"><thead><tr><th></th><th>city</th><th>x</th><th>y</th></tr><tr><th></th><th>Int64</th><th>Int64</th><th>Int64</th></tr></thead><tbody><p>10 rows × 3 columns</p><tr><th>1</th><td>1</td><td>64</td><td>96</td></tr><tr><th>2</th><td>2</td><td>80</td><td>39</td></tr><tr><th>3</th><td>3</td><td>69</td><td>23</td></tr><tr><th>4</th><td>4</td><td>72</td><td>42</td></tr><tr><th>5</th><td>5</td><td>48</td><td>67</td></tr><tr><th>6</th><td>6</td><td>58</td><td>43</td></tr><tr><th>7</th><td>7</td><td>81</td><td>34</td></tr><tr><th>8</th><td>8</td><td>79</td><td>17</td></tr><tr><th>9</th><td>9</td><td>30</td><td>23</td></tr><tr><th>10</th><td>10</td><td>42</td><td>67</td></tr></tbody></table>"
      ],
      "text/latex": [
       "\\begin{tabular}{r|ccc}\n",
       "\t& city & x & y\\\\\n",
       "\t\\hline\n",
       "\t& Int64 & Int64 & Int64\\\\\n",
       "\t\\hline\n",
       "\t1 & 1 & 64 & 96 \\\\\n",
       "\t2 & 2 & 80 & 39 \\\\\n",
       "\t3 & 3 & 69 & 23 \\\\\n",
       "\t4 & 4 & 72 & 42 \\\\\n",
       "\t5 & 5 & 48 & 67 \\\\\n",
       "\t6 & 6 & 58 & 43 \\\\\n",
       "\t7 & 7 & 81 & 34 \\\\\n",
       "\t8 & 8 & 79 & 17 \\\\\n",
       "\t9 & 9 & 30 & 23 \\\\\n",
       "\t10 & 10 & 42 & 67 \\\\\n",
       "\\end{tabular}\n"
      ],
      "text/plain": [
       "10×3 DataFrame\n",
       "│ Row │ city  │ x     │ y     │\n",
       "│     │ \u001b[90mInt64\u001b[39m │ \u001b[90mInt64\u001b[39m │ \u001b[90mInt64\u001b[39m │\n",
       "├─────┼───────┼───────┼───────┤\n",
       "│ 1   │ 1     │ 64    │ 96    │\n",
       "│ 2   │ 2     │ 80    │ 39    │\n",
       "│ 3   │ 3     │ 69    │ 23    │\n",
       "│ 4   │ 4     │ 72    │ 42    │\n",
       "│ 5   │ 5     │ 48    │ 67    │\n",
       "│ 6   │ 6     │ 58    │ 43    │\n",
       "│ 7   │ 7     │ 81    │ 34    │\n",
       "│ 8   │ 8     │ 79    │ 17    │\n",
       "│ 9   │ 9     │ 30    │ 23    │\n",
       "│ 10  │ 10    │ 42    │ 67    │"
      ]
     },
     "execution_count": 15,
     "metadata": {},
     "output_type": "execute_result"
    }
   ],
   "source": [
    "head(st70, 10)"
   ]
  },
  {
   "cell_type": "markdown",
   "metadata": {},
   "source": [
    "# Functions\n",
    "\n",
    "* euclidean_distance_matrix - compute cost matrix\n",
    "* trim_cities - make problem instance smaller than 70 cities!\n",
    "* tour_cost - compute cost of tour\n",
    "* tweak! - randomly swap two cities in tour\n",
    "* [include algorithm description]"
   ]
  },
  {
   "cell_type": "code",
   "execution_count": 16,
   "metadata": {},
   "outputs": [
    {
     "data": {
      "text/plain": [
       "euclidean_distance_matrix"
      ]
     },
     "execution_count": 16,
     "metadata": {},
     "output_type": "execute_result"
    }
   ],
   "source": [
    "\"\"\"\n",
    "    euclidean_distance_matrix(cities)\n",
    "\n",
    "Compute a matrix of euclidean distances between\n",
    "city x, y coordinate pairs\n",
    "\n",
    "# Arguments\n",
    "- cities::Array: n x 2 matrix of x, y coordinates\n",
    "\n",
    "# Examples\n",
    "```julia-repl \n",
    "julia> using Random;\n",
    "\n",
    "julia> Random.seed!(42);\n",
    "\n",
    "julia> coords = rand(1:50, 5, 2)\n",
    "5×2 Array{Int64,2}:\n",
    " 16  42\n",
    " 10  15\n",
    " 44  36\n",
    " 32  42\n",
    " 28  39\n",
    "\n",
    "julia> euclidean_distance_matrix(coords)\n",
    "5×5 Array{Float64,2}:\n",
    "  0.0     27.6586  28.6356  16.0     12.3693\n",
    " 27.6586   0.0     39.9625  34.8281  30.0\n",
    " 28.6356  39.9625   0.0     13.4164  16.2788\n",
    " 16.0     34.8281  13.4164   0.0      5.0\n",
    " 12.3693  30.0     16.2788   5.0      0.0\n",
    "```\n",
    "\"\"\"\n",
    "function euclidean_distance_matrix(cities)\n",
    "    nrows = size(cities)[1]\n",
    "    matrix = zeros(nrows, nrows)\n",
    "    \n",
    "    row = 1\n",
    "    \n",
    "    for city1 in 1:nrows\n",
    "        col = 1\n",
    "        for city2 in 1:nrows\n",
    "            matrix[row, col] = norm(cities[city1, 1:2]-cities[city2, 1:2])\n",
    "            col+=1\n",
    "        end\n",
    "        row +=1\n",
    "    end\n",
    "        \n",
    "    return matrix\n",
    "end"
   ]
  },
  {
   "cell_type": "code",
   "execution_count": 17,
   "metadata": {},
   "outputs": [
    {
     "data": {
      "text/plain": [
       "trim_cities (generic function with 1 method)"
      ]
     },
     "execution_count": 17,
     "metadata": {},
     "output_type": "execute_result"
    }
   ],
   "source": [
    "trim_cities(df, ncities) = Array(df[2:end])[1:ncities, :]"
   ]
  },
  {
   "cell_type": "code",
   "execution_count": 18,
   "metadata": {},
   "outputs": [
    {
     "data": {
      "text/plain": [
       "tour_cost"
      ]
     },
     "execution_count": 18,
     "metadata": {},
     "output_type": "execute_result"
    }
   ],
   "source": [
    "\"\"\"\n",
    "    tour_cost(tour, matrix)\n",
    "\n",
    "Compute the travel cost of tour using\n",
    "the cost matrix\n",
    "\"\"\"\n",
    "function tour_cost(tour, matrix)\n",
    "    cost = 0.0\n",
    "    for i in 1:size(tour)[1] - 1\n",
    "        cost += matrix[tour[i], tour[i+1]]\n",
    "    end\n",
    "    \n",
    "    cost += matrix[tour[end], tour[1]]\n",
    "    \n",
    "    return cost\n",
    "end"
   ]
  },
  {
   "cell_type": "code",
   "execution_count": 19,
   "metadata": {},
   "outputs": [],
   "source": [
    "@everywhere begin\n",
    "\"\"\"\n",
    "    simple_tweak!(tour)\n",
    "\n",
    "Simple swap of elemements in an array\n",
    "Note this modifies the input array\n",
    "This is more efficient than returning a copy.\n",
    "\"\"\"\n",
    "function simple_tweak!(tour, i, j)\n",
    "    tour[i], tour[j] = tour[j], tour[i]\n",
    "end\n",
    "    \n",
    "end"
   ]
  },
  {
   "cell_type": "code",
   "execution_count": 156,
   "metadata": {},
   "outputs": [],
   "source": [
    "@everywhere function tweak_two_opt!(tour, i, j)\n",
    "    reverse!(tour, i, j)\n",
    "end"
   ]
  },
  {
   "cell_type": "markdown",
   "metadata": {},
   "source": [
    "# Algorithms"
   ]
  },
  {
   "cell_type": "code",
   "execution_count": 137,
   "metadata": {},
   "outputs": [],
   "source": [
    "@everywhere begin\n",
    "\"\"\"\n",
    "    local_search(init_solution, matrix; time_limit=2.0, tweak!=simple_tweak!)\n",
    "\n",
    "First improvement local search\n",
    "\n",
    "Iteratively test candidate solutions in the neigbourhood\n",
    "of the best solution and adopt the first improvement found.\n",
    "Executes until time_limit is reached (default 2 seconds) or no improvements\n",
    "found.\n",
    "\n",
    "# Arguments\n",
    "\n",
    "- intial_solution::Array: initial tour\n",
    "- matrix::Array 2x2. costs of travel\n",
    "- time_limit::int64: maximum run time\n",
    "- tweak::func(tour::Array, i::Int, j::Int): tweak function modifies tour in place\n",
    "    default = simple_tweak!\n",
    "\n",
    "# Returns\n",
    "- Tuple (best_cost, best_solution)\n",
    "\n",
    "# Examples\n",
    "```julia-repl \n",
    "julia> using Random;\n",
    "\n",
    "julia> Random.seed!(42);\n",
    "\n",
    "julia> coords = rand(1:50, 5, 2)\n",
    "5×2 Array{Int64,2}:\n",
    " 16  42\n",
    " 10  15\n",
    " 44  36\n",
    " 32  42\n",
    " 28  39\n",
    "\n",
    "julia> matrix = euclidean_distance_matrix(coords)\n",
    "5×5 Array{Float64,2}:\n",
    "  0.0     27.6586  28.6356  16.0     12.3693\n",
    " 27.6586   0.0     39.9625  34.8281  30.0\n",
    " 28.6356  39.9625   0.0     13.4164  16.2788\n",
    " 16.0     34.8281  13.4164   0.0      5.0\n",
    " 12.3693  30.0     16.2788   5.0      0.0\n",
    "\n",
    "julia> tour = [i for i in 1:size(coords)[1]] \n",
    "5-element Array{Int64,1}:\n",
    " 1\n",
    " 2\n",
    " 3\n",
    " 4\n",
    " 5\n",
    "\n",
    "julia> local_search(shuffle(tour), matrix)\n",
    "(98.40684051910655, [1, 5, 4, 3, 2])\n",
    "```\n",
    "\"\"\"\n",
    "function local_search(init_solution, matrix; time_limit=2.0, tweak=simple_tweak!)\n",
    "        \n",
    "    best = copy(init_solution)\n",
    "    best_cost = -tour_cost(init_solution, matrix)\n",
    "    n_cities = size(init_solution)[1]\n",
    "    \n",
    "    #candidate solution\n",
    "    candidate = copy(init_solution)\n",
    "    \n",
    "    start = time()\n",
    "    improvement = true\n",
    "    \n",
    "    while improvement && (time() - start) < time_limit\n",
    "        improvement = false\n",
    "        \n",
    "        for city_i in 1:n_cities\n",
    "            for city_j in city_i+1:n_cities\n",
    "                tweak(candidate, city_i, city_j)\n",
    "                cost = -tour_cost(candidate, matrix)\n",
    "                \n",
    "                if cost > best_cost\n",
    "                    best, best_cost = candidate, cost\n",
    "                    improvement = true\n",
    "                else\n",
    "                    #reverse swap as no improvement\n",
    "                    tweak(candidate, city_i, city_j)\n",
    "                end\n",
    "            end\n",
    "        end\n",
    "    end\n",
    "    \n",
    "    return best_cost, best\n",
    "end\n",
    "   \n",
    "#end @everywhere\n",
    "end"
   ]
  },
  {
   "cell_type": "code",
   "execution_count": 212,
   "metadata": {},
   "outputs": [
    {
     "data": {
      "text/plain": [
       "four_opt_tweak"
      ]
     },
     "execution_count": 212,
     "metadata": {},
     "output_type": "execute_result"
    }
   ],
   "source": [
    "\"\"\"\n",
    "    four_opt_tweak(tour)\n",
    "\n",
    "Perform a random 4-opt (\"double bridge\") move on a tour.\n",
    "        \n",
    "# Arguments:\n",
    "\n",
    "- tour: vector representing tour between cities e.g.\n",
    "        [1, 2, 3, 4, 5, 6, 7, 8, 9, 10]\n",
    "\n",
    "Returns:\n",
    "--------\n",
    "vector. representing the tour after stochastic 4-opt swap\n",
    "\"\"\"\n",
    "function four_opt_tweak(tour)\n",
    "\n",
    "    n = size(tour)[1]\n",
    "    segment_end = convert(Int, floor(n/3))\n",
    "\n",
    "    pos1 = rand(1:segment_end) \n",
    "    pos2 = pos1 + rand(1:segment_end)\n",
    "    pos3 = pos2 + rand(1:segment_end) \n",
    "\n",
    "    #useful to see how the function is splitting the array\n",
    "    #println(tour[1:pos1], tour[pos1+1:pos2], tour[pos2+1:pos3], tour[pos3+1:end])\n",
    "    \n",
    "    p1 = vcat(tour[1:pos1], tour[pos3+1:end])\n",
    "    p2 = vcat(tour[pos2+1:pos3], tour[pos1+1:pos2])\n",
    "    \n",
    "    return vcat(p1, p2)\n",
    "end"
   ]
  },
  {
   "cell_type": "code",
   "execution_count": 213,
   "metadata": {},
   "outputs": [
    {
     "data": {
      "text/plain": [
       "random_homebase (generic function with 1 method)"
      ]
     },
     "execution_count": 213,
     "metadata": {},
     "output_type": "execute_result"
    }
   ],
   "source": [
    "function random_homebase(home_base, home_cost, candidate, candidate_cost)\n",
    "    return candidate, candidate_cost\n",
    "end"
   ]
  },
  {
   "cell_type": "code",
   "execution_count": 214,
   "metadata": {},
   "outputs": [
    {
     "data": {
      "text/plain": [
       "higher_quality_homebase (generic function with 1 method)"
      ]
     },
     "execution_count": 214,
     "metadata": {},
     "output_type": "execute_result"
    }
   ],
   "source": [
    "function higher_quality_homebase(home_base, home_cost, candidate, candidate_cost)\n",
    "    if candidate_cost > home_cost\n",
    "        return candidate, candidate_cost\n",
    "    else\n",
    "        return home_base, home_cost\n",
    "    end\n",
    "end"
   ]
  },
  {
   "cell_type": "code",
   "execution_count": 215,
   "metadata": {},
   "outputs": [
    {
     "data": {
      "text/plain": [
       "iterated_local_search (generic function with 5 methods)"
      ]
     },
     "execution_count": 215,
     "metadata": {},
     "output_type": "execute_result"
    }
   ],
   "source": [
    "function iterated_local_search(init_solution, matrix;\n",
    "                               new_homebase=random_homebase, \n",
    "                               perturb=four_opt_tweak, maxiter=50,\n",
    "                               local_search_tweak=simple_tweak!)\n",
    "\n",
    "    candidate = copy(init_solution)\n",
    "    home =  copy(candidate)\n",
    "    best = copy(candidate)\n",
    "    \n",
    "    home_cost = -tour_cost(tour, matrix)\n",
    "    best_cost = home_cost\n",
    "    \n",
    "    for i in 1:maxiter\n",
    "        \n",
    "        #first improvement hill climb\n",
    "        candidate_cost, candidate = local_search(candidate, matrix, \n",
    "                                                 tweak=local_search_tweak)\n",
    "        \n",
    "        #is current iteration local optimum best result found?\n",
    "        if candidate_cost > best_cost\n",
    "            best_cost = candidate_cost\n",
    "            best = copy(candidate)\n",
    "        end\n",
    "        \n",
    "        # update homebase\n",
    "        home, home_cost = new_homebase(home, home_cost, candidate, \n",
    "                                       candidate_cost)\n",
    "        \n",
    "        #take a big step away from homebase\n",
    "        home = perturb(home)\n",
    "    end\n",
    "    \n",
    "    return best_cost, best\n",
    "end"
   ]
  },
  {
   "cell_type": "markdown",
   "metadata": {},
   "source": [
    "# Example solution"
   ]
  },
  {
   "cell_type": "code",
   "execution_count": 234,
   "metadata": {},
   "outputs": [
    {
     "name": "stdout",
     "output_type": "stream",
     "text": [
      "  0.006844 seconds (10.01 k allocations: 1.505 MiB)\n",
      "  0.008142 seconds (10.01 k allocations: 1.505 MiB)\n",
      "  0.008126 seconds (10.01 k allocations: 1.504 MiB)\n",
      "(-420.6518699576129, [3, 14, 20, 9, 17, 12, 11, 4, 2, 7, 18, 6, 5, 10, 16, 1, 13, 15, 19, 8])\n",
      "(-401.46113043065816, [8, 3, 6, 10, 5, 18, 4, 2, 7, 19, 15, 13, 1, 16, 11, 12, 17, 9, 20, 14])\n",
      "(-398.0243548038657, [20, 9, 17, 3, 2, 4, 18, 6, 12, 11, 10, 5, 16, 1, 13, 15, 19, 7, 8, 14])\n"
     ]
    }
   ],
   "source": [
    "Random.seed!(42);\n",
    "\n",
    "coords = trim_cities(st70, 20);\n",
    "matrix = euclidean_distance_matrix(coords)\n",
    "tour = [i for i in 1:size(coords)[1]]\n",
    "\n",
    "# add solution code\n",
    "@time result1 = iterated_local_search(shuffle(tour), matrix, maxiter=1000)\n",
    "\n",
    "@time result2 = iterated_local_search(shuffle(tour), matrix, \n",
    "                                      local_search_tweak=tweak_two_opt!, \n",
    "                                      maxiter=1000)\n",
    "\n",
    "@time result3 = iterated_local_search(shuffle(tour), matrix, \n",
    "                                      local_search_tweak=tweak_two_opt!, \n",
    "                                      maxiter=1000, \n",
    "                                      new_homebase=higher_quality_homebase)\n",
    "\n",
    "println(result1)\n",
    "println(result2)\n",
    "println(result3)"
   ]
  },
  {
   "cell_type": "code",
   "execution_count": null,
   "metadata": {},
   "outputs": [],
   "source": []
  },
  {
   "cell_type": "code",
   "execution_count": null,
   "metadata": {},
   "outputs": [],
   "source": []
  }
 ],
 "metadata": {
  "kernelspec": {
   "display_name": "Julia 1.5.0",
   "language": "julia",
   "name": "julia-1.5"
  },
  "language_info": {
   "file_extension": ".jl",
   "mimetype": "application/julia",
   "name": "julia",
   "version": "1.5.0"
  }
 },
 "nbformat": 4,
 "nbformat_minor": 4
}
