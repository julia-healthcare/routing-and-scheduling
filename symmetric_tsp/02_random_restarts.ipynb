{
 "cells": [
  {
   "cell_type": "markdown",
   "metadata": {},
   "source": [
    "# Random Restarts for the TSP Algorithm in Julia\n",
    "\n",
    "Solves the Symmetric TSP using variations on the Random Restart approach to optimisation"
   ]
  },
  {
   "cell_type": "markdown",
   "metadata": {},
   "source": [
    "# Add packages and imports"
   ]
  },
  {
   "cell_type": "code",
   "execution_count": 1,
   "metadata": {},
   "outputs": [],
   "source": [
    "#import Pkg\n",
    "#Pkg.add(\"DataFrames\")\n",
    "#Pkg.add(\"CSV\")"
   ]
  },
  {
   "cell_type": "code",
   "execution_count": 2,
   "metadata": {},
   "outputs": [],
   "source": [
    "using Distributed # for parallel processes\n",
    "using DataFrames\n",
    "using CSV\n",
    "using LinearAlgebra"
   ]
  },
  {
   "cell_type": "code",
   "execution_count": 3,
   "metadata": {},
   "outputs": [
    {
     "name": "stdout",
     "output_type": "stream",
     "text": [
      "117"
     ]
    }
   ],
   "source": [
    "#set up extra processes for parallel runs\n",
    "print(nprocs())\n",
    "print(nworkers())\n",
    "addprocs(Sys.CPU_THREADS - 1);\n",
    "print(nworkers())"
   ]
  },
  {
   "cell_type": "code",
   "execution_count": 4,
   "metadata": {},
   "outputs": [],
   "source": [
    "@everywhere using Random"
   ]
  },
  {
   "cell_type": "markdown",
   "metadata": {},
   "source": [
    "# Load data from csv\n",
    "\n",
    "This is the 70 city problem from TSP lib."
   ]
  },
  {
   "cell_type": "code",
   "execution_count": 5,
   "metadata": {},
   "outputs": [],
   "source": [
    "st70 = CSV.read(\"data/st70.csv\");"
   ]
  },
  {
   "cell_type": "code",
   "execution_count": 6,
   "metadata": {},
   "outputs": [
    {
     "data": {
      "text/html": [
       "<table class=\"data-frame\"><thead><tr><th></th><th>city</th><th>x</th><th>y</th></tr><tr><th></th><th>Int64</th><th>Int64</th><th>Int64</th></tr></thead><tbody><p>10 rows × 3 columns</p><tr><th>1</th><td>1</td><td>64</td><td>96</td></tr><tr><th>2</th><td>2</td><td>80</td><td>39</td></tr><tr><th>3</th><td>3</td><td>69</td><td>23</td></tr><tr><th>4</th><td>4</td><td>72</td><td>42</td></tr><tr><th>5</th><td>5</td><td>48</td><td>67</td></tr><tr><th>6</th><td>6</td><td>58</td><td>43</td></tr><tr><th>7</th><td>7</td><td>81</td><td>34</td></tr><tr><th>8</th><td>8</td><td>79</td><td>17</td></tr><tr><th>9</th><td>9</td><td>30</td><td>23</td></tr><tr><th>10</th><td>10</td><td>42</td><td>67</td></tr></tbody></table>"
      ],
      "text/latex": [
       "\\begin{tabular}{r|ccc}\n",
       "\t& city & x & y\\\\\n",
       "\t\\hline\n",
       "\t& Int64 & Int64 & Int64\\\\\n",
       "\t\\hline\n",
       "\t1 & 1 & 64 & 96 \\\\\n",
       "\t2 & 2 & 80 & 39 \\\\\n",
       "\t3 & 3 & 69 & 23 \\\\\n",
       "\t4 & 4 & 72 & 42 \\\\\n",
       "\t5 & 5 & 48 & 67 \\\\\n",
       "\t6 & 6 & 58 & 43 \\\\\n",
       "\t7 & 7 & 81 & 34 \\\\\n",
       "\t8 & 8 & 79 & 17 \\\\\n",
       "\t9 & 9 & 30 & 23 \\\\\n",
       "\t10 & 10 & 42 & 67 \\\\\n",
       "\\end{tabular}\n"
      ],
      "text/plain": [
       "10×3 DataFrame\n",
       "│ Row │ city  │ x     │ y     │\n",
       "│     │ \u001b[90mInt64\u001b[39m │ \u001b[90mInt64\u001b[39m │ \u001b[90mInt64\u001b[39m │\n",
       "├─────┼───────┼───────┼───────┤\n",
       "│ 1   │ 1     │ 64    │ 96    │\n",
       "│ 2   │ 2     │ 80    │ 39    │\n",
       "│ 3   │ 3     │ 69    │ 23    │\n",
       "│ 4   │ 4     │ 72    │ 42    │\n",
       "│ 5   │ 5     │ 48    │ 67    │\n",
       "│ 6   │ 6     │ 58    │ 43    │\n",
       "│ 7   │ 7     │ 81    │ 34    │\n",
       "│ 8   │ 8     │ 79    │ 17    │\n",
       "│ 9   │ 9     │ 30    │ 23    │\n",
       "│ 10  │ 10    │ 42    │ 67    │"
      ]
     },
     "execution_count": 6,
     "metadata": {},
     "output_type": "execute_result"
    }
   ],
   "source": [
    "head(st70, 10)"
   ]
  },
  {
   "cell_type": "markdown",
   "metadata": {},
   "source": [
    "# Functions\n",
    "\n",
    "* euclidean_distance_matrix - compute cost matrix\n",
    "* trim_cities - make problem instance smaller than 70 cities!\n",
    "* tour_cost - compute cost of tour\n",
    "* tweak! - randomly swap two cities in tour\n",
    "* random_restarts - search by randomly shuffling tour for given time limit.\n",
    "* hill_climb_with_random_restarts - shuffle tour then climb for a fraction of the total time limit; repeat until all time budget is used up."
   ]
  },
  {
   "cell_type": "code",
   "execution_count": 7,
   "metadata": {},
   "outputs": [
    {
     "data": {
      "text/plain": [
       "euclidean_distance_matrix"
      ]
     },
     "execution_count": 7,
     "metadata": {},
     "output_type": "execute_result"
    }
   ],
   "source": [
    "\"\"\"\n",
    "    euclidean_distance_matrix(cities)\n",
    "\n",
    "Compute a matrix of euclidean distances between\n",
    "city x, y coordinate pairs\n",
    "\n",
    "# Arguments\n",
    "- cities::Array: n x 2 matrix of x, y coordinates\n",
    "\n",
    "# Examples\n",
    "```julia-repl \n",
    "julia> using Random;\n",
    "\n",
    "julia> Random.seed!(42);\n",
    "\n",
    "julia> coords = rand(1:50, 5, 2)\n",
    "5×2 Array{Int64,2}:\n",
    " 16  42\n",
    " 10  15\n",
    " 44  36\n",
    " 32  42\n",
    " 28  39\n",
    "\n",
    "julia> euclidean_distance_matrix(coords)\n",
    "5×5 Array{Float64,2}:\n",
    "  0.0     27.6586  28.6356  16.0     12.3693\n",
    " 27.6586   0.0     39.9625  34.8281  30.0\n",
    " 28.6356  39.9625   0.0     13.4164  16.2788\n",
    " 16.0     34.8281  13.4164   0.0      5.0\n",
    " 12.3693  30.0     16.2788   5.0      0.0\n",
    "```\n",
    "\"\"\"\n",
    "function euclidean_distance_matrix(cities)\n",
    "    nrows = size(cities)[1]\n",
    "    matrix = zeros(nrows, nrows)\n",
    "    \n",
    "    row = 1\n",
    "    \n",
    "    for city1 in 1:nrows\n",
    "        col = 1\n",
    "        for city2 in 1:nrows\n",
    "            matrix[row, col] = norm(cities[city1, 1:2]-cities[city2, 1:2])\n",
    "            col+=1\n",
    "        end\n",
    "        row +=1\n",
    "    end\n",
    "        \n",
    "    return matrix\n",
    "end"
   ]
  },
  {
   "cell_type": "code",
   "execution_count": 8,
   "metadata": {},
   "outputs": [
    {
     "data": {
      "text/plain": [
       "trim_cities (generic function with 1 method)"
      ]
     },
     "execution_count": 8,
     "metadata": {},
     "output_type": "execute_result"
    }
   ],
   "source": [
    "trim_cities(df, ncities) = Array(df[2:end])[1:ncities, :]"
   ]
  },
  {
   "cell_type": "code",
   "execution_count": 9,
   "metadata": {},
   "outputs": [],
   "source": [
    "@everywhere begin\n",
    "\n",
    "\"\"\"\n",
    "    tour_cost(tour, matrix)\n",
    "\n",
    "Compute the travel cost of tour using\n",
    "the cost matrix\n",
    "\"\"\"\n",
    "function tour_cost(tour, matrix)\n",
    "    cost::Float64 = 0.0\n",
    "    \n",
    "    for i in 1:size(tour)[1] - 1\n",
    "        cost += matrix[tour[i], tour[i+1]]\n",
    "    end\n",
    "    \n",
    "    cost += matrix[tour[end], tour[1]]\n",
    "    \n",
    "    return cost\n",
    "end\n",
    "\n",
    "end"
   ]
  },
  {
   "cell_type": "code",
   "execution_count": 10,
   "metadata": {},
   "outputs": [],
   "source": [
    "@everywhere begin\n",
    "    \n",
    "\"\"\"\n",
    "    simple_tweak(tour)\n",
    "\n",
    "Randomly select to elements within the \n",
    "vector tour and swap them\n",
    "\"\"\"\n",
    "function simple_tweak(tour)\n",
    "    sample = rand(1:size(tour)[1], 1, 2)\n",
    "    tour[sample[1]], tour[sample[2]] = tour[sample[2]], tour[sample[1]]\n",
    "    return tour\n",
    "end\n",
    "\n",
    "end"
   ]
  },
  {
   "cell_type": "code",
   "execution_count": 11,
   "metadata": {},
   "outputs": [
    {
     "data": {
      "text/plain": [
       "tweak_two_opt (generic function with 1 method)"
      ]
     },
     "execution_count": 11,
     "metadata": {},
     "output_type": "execute_result"
    }
   ],
   "source": [
    "function tweak_two_opt(tour)\n",
    "    sample = rand(1:size(tour)[1], 1, 2)\n",
    "    tour = reverse(tour, tour[sample[1]], tour[sample[2]])\n",
    "    return tour\n",
    "end"
   ]
  },
  {
   "cell_type": "markdown",
   "metadata": {},
   "source": [
    "# Algorithm"
   ]
  },
  {
   "cell_type": "code",
   "execution_count": 12,
   "metadata": {},
   "outputs": [],
   "source": [
    "@everywhere function random_restarts(init_solution, matrix; time_limit=2)\n",
    "    best = copy(init_solution)\n",
    "    best_cost = -tour_cost(best, matrix)\n",
    "    \n",
    "    start = time()\n",
    "    iter = 0\n",
    "    while (time() - start) < time_limit\n",
    "        iter += 1\n",
    "        neighbour = shuffle(copy(init_solution))\n",
    "        neighbour_cost = -tour_cost(neighbour, matrix)\n",
    "        \n",
    "        if neighbour_cost > best_cost\n",
    "            best, best_cost = neighbour, neighbour_cost\n",
    "        end\n",
    "    end\n",
    "    \n",
    "    return -best_cost, best, iter\n",
    "end "
   ]
  },
  {
   "cell_type": "code",
   "execution_count": 13,
   "metadata": {},
   "outputs": [],
   "source": [
    "@everywhere function random_restarts(init_solution, matrix; maxiter=1000)\n",
    "    best = copy(init_solution)\n",
    "    best_cost = -tour_cost(best, matrix)\n",
    "    \n",
    "    \n",
    "    iter = 1\n",
    "    while iter < maxiter\n",
    "        iter += 1\n",
    "        neighbour = shuffle(copy(init_solution))\n",
    "        neighbour_cost = -tour_cost(neighbour, matrix)\n",
    "        \n",
    "        if neighbour_cost > best_cost\n",
    "            best, best_cost = neighbour, neighbour_cost\n",
    "        end\n",
    "    end\n",
    "    \n",
    "    return -best_cost, best, iter\n",
    "end "
   ]
  },
  {
   "cell_type": "code",
   "execution_count": 14,
   "metadata": {},
   "outputs": [],
   "source": [
    "@everywhere begin\n",
    "\"\"\"\n",
    "    simple_tweak(tour)\n",
    "\n",
    "Randomly select to elements within the \n",
    "vector tour and swap them\n",
    "\"\"\"\n",
    "function simple_tweak(tour)\n",
    "    sample = rand(1:size(tour)[1], 1, 2)\n",
    "    tour[sample[1]], tour[sample[2]] = tour[sample[2]], tour[sample[1]]\n",
    "    return tour\n",
    "end\n",
    "\n",
    "end"
   ]
  },
  {
   "cell_type": "code",
   "execution_count": 15,
   "metadata": {},
   "outputs": [],
   "source": [
    "@everywhere begin\n",
    "\"\"\"\n",
    "    tweak_two_opt(tour)\n",
    "\n",
    "Randomly select to elements within the \n",
    "vector tour and reverse the route\n",
    "\n",
    "e.g. \n",
    "[1, 2, 3, 4, 5, 6, 7, 8]\n",
    "\n",
    "if elements 2 and 5 are selected then the result is:\n",
    "[1, 5, 4, 3, 2, 6, 7, 8]\n",
    "\"\"\"\n",
    "function tweak_two_opt(tour)\n",
    "    sample = rand(1:size(tour)[1], 1, 2)\n",
    "    tour = reverse(tour, tour[sample[1]], tour[sample[2]])\n",
    "    return tour\n",
    "end\n",
    "\n",
    "end"
   ]
  },
  {
   "cell_type": "code",
   "execution_count": 16,
   "metadata": {},
   "outputs": [
    {
     "data": {
      "text/plain": [
       "\"    hill_climb_with_random_restarts(init_solution, matrix; time_limit=2)\\n\\nBreaks runtime into hill climbing for a period of time and then restarting\\nthe climb from a different random initial solution.\\n\\n\""
      ]
     },
     "execution_count": 16,
     "metadata": {},
     "output_type": "execute_result"
    }
   ],
   "source": [
    "\"\"\"\n",
    "    hill_climb_with_random_restarts(init_solution, matrix; time_limit=2)\n",
    "\n",
    "Breaks runtime into hill climbing for a period of time and then restarting\n",
    "the climb from a different random initial solution.\n",
    "\n",
    "\"\"\""
   ]
  },
  {
   "cell_type": "code",
   "execution_count": 17,
   "metadata": {},
   "outputs": [],
   "source": [
    "@everywhere function hill_climb_with_random_restarts(init_solution, matrix; time_limit=2.0, \n",
    "                                         tweak=simple_tweak)\n",
    "\n",
    "    S = shuffle(init_solution)\n",
    "    S_cost = -tour_cost(S, matrix)\n",
    "    \n",
    "    best, best_cost = copy(S), S_cost\n",
    "    \n",
    "    start = time()\n",
    "    while (time() - start) < time_limit\n",
    "        climbing_time = rand(0: time() - start)\n",
    "        climb_start = time()\n",
    "        \n",
    "        while (time() - climb_start) < climbing_time\n",
    "            R = tweak(copy(S))\n",
    "            R_cost = -tour_cost(R, matrix)\n",
    "\n",
    "            if R_cost > S_cost\n",
    "                S, S_cost = copy(R), R_cost\n",
    "            end\n",
    "        \n",
    "        end\n",
    "        \n",
    "        if S_cost > best_cost\n",
    "            best, best_cost = copy(S), S_cost\n",
    "        end\n",
    "        \n",
    "        S = shuffle(init_solution)\n",
    "        S_cost -tour_cost(S, matrix)\n",
    "    end\n",
    "    \n",
    "    return -best_cost, best\n",
    "    \n",
    "end"
   ]
  },
  {
   "cell_type": "markdown",
   "metadata": {},
   "source": [
    "# Example solution"
   ]
  },
  {
   "cell_type": "code",
   "execution_count": 18,
   "metadata": {},
   "outputs": [],
   "source": [
    "Random.seed!(42);\n",
    "\n",
    "coords = trim_cities(st70, 20);\n",
    "matrix = euclidean_distance_matrix(coords);\n",
    "tour = [i for i in 1:size(coords)[1]];"
   ]
  },
  {
   "cell_type": "code",
   "execution_count": 19,
   "metadata": {},
   "outputs": [
    {
     "name": "stdout",
     "output_type": "stream",
     "text": [
      "  1.850674 seconds (10.15 M allocations: 2.243 GiB, 4.56% gc time)\n"
     ]
    },
    {
     "data": {
      "text/plain": [
       "(508.0300034547813, [7, 3, 18, 2, 8, 20, 14, 9, 12, 13, 16, 1, 11, 5, 10, 6, 17, 4, 15, 19], 5000000)"
      ]
     },
     "execution_count": 19,
     "metadata": {},
     "output_type": "execute_result"
    }
   ],
   "source": [
    "#weird behaviour on the parrallel run so use maxiter instead.\n",
    "@time random_restarts(tour, matrix, maxiter=5_000_000)"
   ]
  },
  {
   "cell_type": "code",
   "execution_count": 20,
   "metadata": {},
   "outputs": [
    {
     "name": "stdout",
     "output_type": "stream",
     "text": [
      "search: \u001b[0m\u001b[1mr\u001b[22m\u001b[0m\u001b[1ma\u001b[22m\u001b[0m\u001b[1mn\u001b[22m\u001b[0m\u001b[1md\u001b[22m\u001b[0m\u001b[1mo\u001b[22m\u001b[0m\u001b[1mm\u001b[22m\u001b[0m\u001b[1m_\u001b[22m\u001b[0m\u001b[1mr\u001b[22m\u001b[0m\u001b[1me\u001b[22m\u001b[0m\u001b[1ms\u001b[22m\u001b[0m\u001b[1mt\u001b[22m\u001b[0m\u001b[1ma\u001b[22m\u001b[0m\u001b[1mr\u001b[22m\u001b[0m\u001b[1mt\u001b[22m\u001b[0m\u001b[1ms\u001b[22m hill_climb_with_\u001b[0m\u001b[1mr\u001b[22m\u001b[0m\u001b[1ma\u001b[22m\u001b[0m\u001b[1mn\u001b[22m\u001b[0m\u001b[1md\u001b[22m\u001b[0m\u001b[1mo\u001b[22m\u001b[0m\u001b[1mm\u001b[22m\u001b[0m\u001b[1m_\u001b[22m\u001b[0m\u001b[1mr\u001b[22m\u001b[0m\u001b[1me\u001b[22m\u001b[0m\u001b[1ms\u001b[22m\u001b[0m\u001b[1mt\u001b[22m\u001b[0m\u001b[1ma\u001b[22m\u001b[0m\u001b[1mr\u001b[22m\u001b[0m\u001b[1mt\u001b[22m\u001b[0m\u001b[1ms\u001b[22m\n",
      "\n"
     ]
    },
    {
     "data": {
      "text/latex": [
       "No documentation found.\n",
       "\n",
       "\\texttt{random\\_restarts} is a \\texttt{Function}.\n",
       "\n",
       "\\begin{verbatim}\n",
       "# 1 method for generic function \"random_restarts\":\n",
       "[1] random_restarts(init_solution, matrix; maxiter) in Main at In[13]:1\n",
       "\\end{verbatim}\n"
      ],
      "text/markdown": [
       "No documentation found.\n",
       "\n",
       "`random_restarts` is a `Function`.\n",
       "\n",
       "```\n",
       "# 1 method for generic function \"random_restarts\":\n",
       "[1] random_restarts(init_solution, matrix; maxiter) in Main at In[13]:1\n",
       "```\n"
      ],
      "text/plain": [
       "  No documentation found.\n",
       "\n",
       "  \u001b[36mrandom_restarts\u001b[39m is a \u001b[36mFunction\u001b[39m.\n",
       "\n",
       "\u001b[36m  # 1 method for generic function \"random_restarts\":\u001b[39m\n",
       "\u001b[36m  [1] random_restarts(init_solution, matrix; maxiter) in Main at In[13]:1\u001b[39m"
      ]
     },
     "execution_count": 20,
     "metadata": {},
     "output_type": "execute_result"
    }
   ],
   "source": [
    "?random_restarts"
   ]
  },
  {
   "cell_type": "code",
   "execution_count": 21,
   "metadata": {},
   "outputs": [
    {
     "name": "stdout",
     "output_type": "stream",
     "text": [
      "  2.140003 seconds (13.48 M allocations: 2.173 GiB, 5.09% gc time)\n"
     ]
    },
    {
     "data": {
      "text/plain": [
       "(448.93759677678946, [7, 2, 16, 1, 13, 15, 19, 8, 3, 14, 20, 9, 17, 18, 6, 12, 11, 10, 5, 4])"
      ]
     },
     "execution_count": 21,
     "metadata": {},
     "output_type": "execute_result"
    }
   ],
   "source": [
    "@time hill_climb_with_random_restarts(tour, matrix)"
   ]
  },
  {
   "cell_type": "code",
   "execution_count": 22,
   "metadata": {},
   "outputs": [
    {
     "name": "stdout",
     "output_type": "stream",
     "text": [
      "  2.046117 seconds (14.18 M allocations: 2.598 GiB, 4.77% gc time)\n"
     ]
    },
    {
     "data": {
      "text/plain": [
       "(367.9963120916785, [13, 1, 16, 5, 10, 11, 12, 9, 17, 6, 18, 4, 3, 14, 20, 8, 19, 7, 2, 15])"
      ]
     },
     "execution_count": 22,
     "metadata": {},
     "output_type": "execute_result"
    }
   ],
   "source": [
    "# tweak with 2 opt.\n",
    "@time hill_climb_with_random_restarts(tour, matrix, tweak=tweak_two_opt)"
   ]
  },
  {
   "cell_type": "markdown",
   "metadata": {},
   "source": [
    "# Running the algorithms multiple times in parrallel\n",
    "\n",
    "Note the use of @everywhere in the function definitions. This means that different workers can access them."
   ]
  },
  {
   "cell_type": "code",
   "execution_count": 23,
   "metadata": {},
   "outputs": [],
   "source": [
    "# schedule the parallel jobs\n",
    "\n",
    "n_jobs = Sys.CPU_THREADS - 1\n",
    "jobs = []\n",
    "\n",
    "for i in 1:n_jobs\n",
    "    push!(jobs, remotecall(random_restarts, i+1, tour, matrix, maxiter=5_000_000))\n",
    "end"
   ]
  },
  {
   "cell_type": "code",
   "execution_count": 24,
   "metadata": {},
   "outputs": [
    {
     "data": {
      "text/plain": [
       "7-element Array{Any,1}:\n",
       " Future(2, 1, 121, nothing)\n",
       " Future(3, 1, 122, nothing)\n",
       " Future(4, 1, 123, nothing)\n",
       " Future(5, 1, 124, nothing)\n",
       " Future(6, 1, 125, nothing)\n",
       " Future(7, 1, 126, nothing)\n",
       " Future(8, 1, 127, nothing)"
      ]
     },
     "execution_count": 24,
     "metadata": {},
     "output_type": "execute_result"
    }
   ],
   "source": [
    "jobs"
   ]
  },
  {
   "cell_type": "code",
   "execution_count": 25,
   "metadata": {},
   "outputs": [
    {
     "name": "stdout",
     "output_type": "stream",
     "text": [
      "  2.748975 seconds (186.97 k allocations: 9.777 MiB, 0.39% gc time)\n"
     ]
    },
    {
     "data": {
      "text/plain": [
       "7-element Array{Tuple{Float64,Array{Int64,1},Int64},1}:\n",
       " (542.5532708753667, [10, 16, 11, 12, 17, 9, 6, 20, 14, 8, 19, 2, 18, 7, 5, 1, 13, 15, 4, 3], 5000000)\n",
       " (493.51618599414456, [2, 19, 7, 15, 6, 16, 1, 13, 10, 5, 11, 12, 18, 4, 3, 14, 20, 9, 17, 8], 5000000)\n",
       " (530.4637423893506, [20, 8, 14, 9, 11, 5, 10, 15, 7, 19, 2, 4, 18, 17, 12, 13, 1, 16, 6, 3], 5000000)\n",
       " (510.1118205009577, [1, 13, 5, 10, 12, 11, 9, 3, 20, 8, 14, 4, 6, 18, 17, 7, 19, 2, 15, 16], 5000000)\n",
       " (518.4452147978769, [7, 19, 4, 14, 20, 9, 8, 3, 18, 12, 6, 17, 11, 10, 5, 13, 1, 16, 15, 2], 5000000)\n",
       " (499.5894302247278, [17, 10, 5, 6, 4, 18, 19, 2, 7, 15, 13, 1, 16, 14, 20, 3, 8, 9, 11, 12], 5000000)\n",
       " (535.4400114846121, [5, 17, 20, 14, 7, 15, 4, 19, 3, 18, 2, 6, 8, 9, 12, 11, 10, 16, 1, 13], 5000000)"
      ]
     },
     "execution_count": 25,
     "metadata": {},
     "output_type": "execute_result"
    }
   ],
   "source": [
    "#this is currently doing something odd when running with time!  so restrict to maxiter\n",
    "@time results = [fetch(job) for job in jobs]"
   ]
  }
 ],
 "metadata": {
  "kernelspec": {
   "display_name": "Julia 1.5.0",
   "language": "julia",
   "name": "julia-1.5"
  },
  "language_info": {
   "file_extension": ".jl",
   "mimetype": "application/julia",
   "name": "julia",
   "version": "1.5.0"
  }
 },
 "nbformat": 4,
 "nbformat_minor": 4
}
