{
 "cells": [
  {
   "cell_type": "markdown",
   "metadata": {},
   "source": [
    "# Random Restarts for the TSP Algorithm in Julia\n",
    "\n",
    "Solves the Symmetric TSP using variations on the Random Restart approach to optimisation"
   ]
  },
  {
   "cell_type": "markdown",
   "metadata": {},
   "source": [
    "# Add packages and imports"
   ]
  },
  {
   "cell_type": "code",
   "execution_count": null,
   "metadata": {},
   "outputs": [],
   "source": [
    "#import Pkg\n",
    "#Pkg.add(\"DataFrames\")\n",
    "#Pkg.add(\"CSV\")"
   ]
  },
  {
   "cell_type": "code",
   "execution_count": 1,
   "metadata": {},
   "outputs": [],
   "source": [
    "using Distributed # for parallel processes\n",
    "using DataFrames\n",
    "using CSV\n",
    "using LinearAlgebra"
   ]
  },
  {
   "cell_type": "code",
   "execution_count": 3,
   "metadata": {},
   "outputs": [
    {
     "name": "stdout",
     "output_type": "stream",
     "text": [
      "1\n",
      "1\n"
     ]
    }
   ],
   "source": [
    "#set up extra processes for parallel runs\n",
    "println(nprocs())\n",
    "println(nworkers())"
   ]
  },
  {
   "cell_type": "code",
   "execution_count": 4,
   "metadata": {},
   "outputs": [
    {
     "name": "stdout",
     "output_type": "stream",
     "text": [
      "15\n"
     ]
    }
   ],
   "source": [
    "addprocs(Sys.CPU_THREADS - 1);\n",
    "println(nworkers())"
   ]
  },
  {
   "cell_type": "code",
   "execution_count": 7,
   "metadata": {},
   "outputs": [],
   "source": [
    "@everywhere using Random"
   ]
  },
  {
   "cell_type": "markdown",
   "metadata": {},
   "source": [
    "# Load data from csv\n",
    "\n",
    "This is the 70 city problem from TSP lib."
   ]
  },
  {
   "cell_type": "code",
   "execution_count": 8,
   "metadata": {},
   "outputs": [],
   "source": [
    "st70 = CSV.read(\"data/st70.csv\");"
   ]
  },
  {
   "cell_type": "code",
   "execution_count": 9,
   "metadata": {},
   "outputs": [
    {
     "data": {
      "text/html": [
       "<table class=\"data-frame\"><thead><tr><th></th><th>city</th><th>x</th><th>y</th></tr><tr><th></th><th>Int64</th><th>Int64</th><th>Int64</th></tr></thead><tbody><p>10 rows × 3 columns</p><tr><th>1</th><td>1</td><td>64</td><td>96</td></tr><tr><th>2</th><td>2</td><td>80</td><td>39</td></tr><tr><th>3</th><td>3</td><td>69</td><td>23</td></tr><tr><th>4</th><td>4</td><td>72</td><td>42</td></tr><tr><th>5</th><td>5</td><td>48</td><td>67</td></tr><tr><th>6</th><td>6</td><td>58</td><td>43</td></tr><tr><th>7</th><td>7</td><td>81</td><td>34</td></tr><tr><th>8</th><td>8</td><td>79</td><td>17</td></tr><tr><th>9</th><td>9</td><td>30</td><td>23</td></tr><tr><th>10</th><td>10</td><td>42</td><td>67</td></tr></tbody></table>"
      ],
      "text/latex": [
       "\\begin{tabular}{r|ccc}\n",
       "\t& city & x & y\\\\\n",
       "\t\\hline\n",
       "\t& Int64 & Int64 & Int64\\\\\n",
       "\t\\hline\n",
       "\t1 & 1 & 64 & 96 \\\\\n",
       "\t2 & 2 & 80 & 39 \\\\\n",
       "\t3 & 3 & 69 & 23 \\\\\n",
       "\t4 & 4 & 72 & 42 \\\\\n",
       "\t5 & 5 & 48 & 67 \\\\\n",
       "\t6 & 6 & 58 & 43 \\\\\n",
       "\t7 & 7 & 81 & 34 \\\\\n",
       "\t8 & 8 & 79 & 17 \\\\\n",
       "\t9 & 9 & 30 & 23 \\\\\n",
       "\t10 & 10 & 42 & 67 \\\\\n",
       "\\end{tabular}\n"
      ],
      "text/plain": [
       "10×3 DataFrame\n",
       "│ Row │ city  │ x     │ y     │\n",
       "│     │ \u001b[90mInt64\u001b[39m │ \u001b[90mInt64\u001b[39m │ \u001b[90mInt64\u001b[39m │\n",
       "├─────┼───────┼───────┼───────┤\n",
       "│ 1   │ 1     │ 64    │ 96    │\n",
       "│ 2   │ 2     │ 80    │ 39    │\n",
       "│ 3   │ 3     │ 69    │ 23    │\n",
       "│ 4   │ 4     │ 72    │ 42    │\n",
       "│ 5   │ 5     │ 48    │ 67    │\n",
       "│ 6   │ 6     │ 58    │ 43    │\n",
       "│ 7   │ 7     │ 81    │ 34    │\n",
       "│ 8   │ 8     │ 79    │ 17    │\n",
       "│ 9   │ 9     │ 30    │ 23    │\n",
       "│ 10  │ 10    │ 42    │ 67    │"
      ]
     },
     "execution_count": 9,
     "metadata": {},
     "output_type": "execute_result"
    }
   ],
   "source": [
    "head(st70, 10)"
   ]
  },
  {
   "cell_type": "markdown",
   "metadata": {},
   "source": [
    "# Functions\n",
    "\n",
    "* euclidean_distance_matrix - compute cost matrix\n",
    "* trim_cities - make problem instance smaller than 70 cities!\n",
    "* tour_cost - compute cost of tour\n",
    "* tweak! - randomly swap two cities in tour\n",
    "* random_restarts - search by randomly shuffling tour for given time limit.\n",
    "* hill_climb_with_random_restarts - shuffle tour then climb for a fraction of the total time limit; repeat until all time budget is used up."
   ]
  },
  {
   "cell_type": "code",
   "execution_count": 10,
   "metadata": {},
   "outputs": [
    {
     "data": {
      "text/plain": [
       "euclidean_distance_matrix"
      ]
     },
     "execution_count": 10,
     "metadata": {},
     "output_type": "execute_result"
    }
   ],
   "source": [
    "\"\"\"\n",
    "    euclidean_distance_matrix(cities)\n",
    "\n",
    "Compute a matrix of euclidean distances between\n",
    "city x, y coordinate pairs\n",
    "\n",
    "# Arguments\n",
    "- cities::Array: n x 2 matrix of x, y coordinates\n",
    "\n",
    "# Examples\n",
    "```julia-repl \n",
    "julia> using Random;\n",
    "\n",
    "julia> Random.seed!(42);\n",
    "\n",
    "julia> coords = rand(1:50, 5, 2)\n",
    "5×2 Array{Int64,2}:\n",
    " 16  42\n",
    " 10  15\n",
    " 44  36\n",
    " 32  42\n",
    " 28  39\n",
    "\n",
    "julia> euclidean_distance_matrix(coords)\n",
    "5×5 Array{Float64,2}:\n",
    "  0.0     27.6586  28.6356  16.0     12.3693\n",
    " 27.6586   0.0     39.9625  34.8281  30.0\n",
    " 28.6356  39.9625   0.0     13.4164  16.2788\n",
    " 16.0     34.8281  13.4164   0.0      5.0\n",
    " 12.3693  30.0     16.2788   5.0      0.0\n",
    "```\n",
    "\"\"\"\n",
    "function euclidean_distance_matrix(cities)\n",
    "    nrows = size(cities)[1]\n",
    "    matrix = zeros(nrows, nrows)\n",
    "    \n",
    "    row = 1\n",
    "    \n",
    "    for city1 in 1:nrows\n",
    "        col = 1\n",
    "        for city2 in 1:nrows\n",
    "            matrix[row, col] = norm(cities[city1, 1:2]-cities[city2, 1:2])\n",
    "            col+=1\n",
    "        end\n",
    "        row +=1\n",
    "    end\n",
    "        \n",
    "    return matrix\n",
    "end"
   ]
  },
  {
   "cell_type": "code",
   "execution_count": 11,
   "metadata": {},
   "outputs": [
    {
     "data": {
      "text/plain": [
       "trim_cities (generic function with 1 method)"
      ]
     },
     "execution_count": 11,
     "metadata": {},
     "output_type": "execute_result"
    }
   ],
   "source": [
    "trim_cities(df, ncities) = Array(df[2:end])[1:ncities, :]"
   ]
  },
  {
   "cell_type": "code",
   "execution_count": 12,
   "metadata": {},
   "outputs": [],
   "source": [
    "@everywhere begin\n",
    "\n",
    "\"\"\"\n",
    "    tour_cost(tour, matrix)\n",
    "\n",
    "Compute the travel cost of tour using\n",
    "the cost matrix\n",
    "\"\"\"\n",
    "function tour_cost(tour, matrix)\n",
    "    cost::Float64 = 0.0\n",
    "    \n",
    "    for i in 1:size(tour)[1] - 1\n",
    "        cost += matrix[tour[i], tour[i+1]]\n",
    "    end\n",
    "    \n",
    "    cost += matrix[tour[end], tour[1]]\n",
    "    \n",
    "    return cost\n",
    "end\n",
    "\n",
    "end"
   ]
  },
  {
   "cell_type": "code",
   "execution_count": 13,
   "metadata": {},
   "outputs": [],
   "source": [
    "@everywhere begin\n",
    "    \n",
    "\"\"\"\n",
    "    simple_tweak(tour)\n",
    "\n",
    "Randomly select to elements within the \n",
    "vector tour and swap them\n",
    "\"\"\"\n",
    "function simple_tweak(tour)\n",
    "    sample = rand(1:size(tour)[1], 1, 2)\n",
    "    tour[sample[1]], tour[sample[2]] = tour[sample[2]], tour[sample[1]]\n",
    "    return tour\n",
    "end\n",
    "\n",
    "end"
   ]
  },
  {
   "cell_type": "code",
   "execution_count": 14,
   "metadata": {},
   "outputs": [
    {
     "data": {
      "text/plain": [
       "tweak_two_opt (generic function with 1 method)"
      ]
     },
     "execution_count": 14,
     "metadata": {},
     "output_type": "execute_result"
    }
   ],
   "source": [
    "function tweak_two_opt(tour)\n",
    "    sample = rand(1:size(tour)[1], 1, 2)\n",
    "    tour = reverse(tour, tour[sample[1]], tour[sample[2]])\n",
    "    return tour\n",
    "end"
   ]
  },
  {
   "cell_type": "markdown",
   "metadata": {},
   "source": [
    "# Algorithm"
   ]
  },
  {
   "cell_type": "code",
   "execution_count": 15,
   "metadata": {},
   "outputs": [],
   "source": [
    "@everywhere function random_restarts(init_solution, matrix; time_limit=2)\n",
    "    best = copy(init_solution)\n",
    "    best_cost = -tour_cost(best, matrix)\n",
    "    \n",
    "    start = time()\n",
    "    iter = 0\n",
    "    while (time() - start) < time_limit\n",
    "        iter += 1\n",
    "        neighbour = shuffle(copy(best))\n",
    "        neighbour_cost = -tour_cost(neighbour, matrix)\n",
    "        \n",
    "        if neighbour_cost > best_cost\n",
    "            best, best_cost = neighbour, neighbour_cost\n",
    "        end\n",
    "    end\n",
    "    \n",
    "    return -best_cost, best, iter\n",
    "end "
   ]
  },
  {
   "cell_type": "code",
   "execution_count": 16,
   "metadata": {},
   "outputs": [],
   "source": [
    "@everywhere function random_restarts(init_solution, matrix; maxiter=1000)\n",
    "    best = copy(init_solution)\n",
    "    neighbour = copy(init_solution)\n",
    "    best_cost = -tour_cost(best, matrix)\n",
    "        \n",
    "    iter = 1\n",
    "    while iter < maxiter\n",
    "        iter += 1\n",
    "        neighbour = shuffle(neighbour)\n",
    "        neighbour_cost = -tour_cost(neighbour, matrix)\n",
    "        \n",
    "        if neighbour_cost > best_cost\n",
    "            best, best_cost = neighbour, neighbour_cost\n",
    "        end\n",
    "    end\n",
    "    \n",
    "    return -best_cost, best\n",
    "end "
   ]
  },
  {
   "cell_type": "code",
   "execution_count": 17,
   "metadata": {},
   "outputs": [],
   "source": [
    "@everywhere begin\n",
    "\"\"\"\n",
    "    simple_tweak(tour)\n",
    "\n",
    "Randomly select to elements within the \n",
    "vector tour and swap them\n",
    "\"\"\"\n",
    "function simple_tweak(tour)\n",
    "    sample = rand(1:size(tour)[1], 1, 2)\n",
    "    tour[sample[1]], tour[sample[2]] = tour[sample[2]], tour[sample[1]]\n",
    "    return tour\n",
    "end\n",
    "\n",
    "end"
   ]
  },
  {
   "cell_type": "code",
   "execution_count": 18,
   "metadata": {},
   "outputs": [],
   "source": [
    "@everywhere begin\n",
    "\"\"\"\n",
    "    tweak_two_opt(tour)\n",
    "\n",
    "Randomly select to elements within the \n",
    "vector tour and reverse the route\n",
    "\n",
    "e.g. \n",
    "[1, 2, 3, 4, 5, 6, 7, 8]\n",
    "\n",
    "if elements 2 and 5 are selected then the result is:\n",
    "[1, 5, 4, 3, 2, 6, 7, 8]\n",
    "\"\"\"\n",
    "function tweak_two_opt(tour)\n",
    "    sample = rand(1:size(tour)[1], 1, 2)\n",
    "    tour = reverse(tour, tour[sample[1]], tour[sample[2]])\n",
    "    return tour\n",
    "end\n",
    "\n",
    "end"
   ]
  },
  {
   "cell_type": "code",
   "execution_count": 19,
   "metadata": {},
   "outputs": [
    {
     "data": {
      "text/plain": [
       "\"    hill_climb_with_random_restarts(init_solution, matrix; time_limit=2)\\n\\nBreaks runtime into hill climbing for a period of time and then restarting\\nthe climb from a different random initial solution.\\n\\n\""
      ]
     },
     "execution_count": 19,
     "metadata": {},
     "output_type": "execute_result"
    }
   ],
   "source": [
    "\"\"\"\n",
    "    hill_climb_with_random_restarts(init_solution, matrix; time_limit=2)\n",
    "\n",
    "Breaks runtime into hill climbing for a period of time and then restarting\n",
    "the climb from a different random initial solution.\n",
    "\n",
    "\"\"\""
   ]
  },
  {
   "cell_type": "code",
   "execution_count": 20,
   "metadata": {},
   "outputs": [],
   "source": [
    "@everywhere function hill_climb_with_random_restarts(init_solution, matrix; time_limit=2.0, \n",
    "                                         tweak=simple_tweak)\n",
    "\n",
    "    S = shuffle(init_solution)\n",
    "    S_cost = -tour_cost(S, matrix)\n",
    "    \n",
    "    best, best_cost = copy(S), S_cost\n",
    "    \n",
    "    start = time()\n",
    "    while (time() - start) < time_limit\n",
    "        climbing_time = rand(0: time_limit - (time() - start))\n",
    "        climb_start = time()\n",
    "        \n",
    "        while (time() - climb_start) < climbing_time\n",
    "            R = tweak(copy(S))\n",
    "            R_cost = -tour_cost(R, matrix)\n",
    "\n",
    "            if R_cost > S_cost\n",
    "                S, S_cost = copy(R), R_cost\n",
    "            end\n",
    "        \n",
    "        end\n",
    "        \n",
    "        if S_cost > best_cost\n",
    "            best, best_cost = copy(S), S_cost\n",
    "        end\n",
    "        \n",
    "        S = shuffle(init_solution)\n",
    "        S_cost -tour_cost(S, matrix)\n",
    "    end\n",
    "    \n",
    "    return -best_cost, best\n",
    "    \n",
    "end"
   ]
  },
  {
   "cell_type": "markdown",
   "metadata": {},
   "source": [
    "# Example solution"
   ]
  },
  {
   "cell_type": "code",
   "execution_count": 21,
   "metadata": {},
   "outputs": [
    {
     "name": "stdout",
     "output_type": "stream",
     "text": [
      "  2.144752 seconds (15.87 M allocations: 2.858 GiB, 7.94% gc time)\n",
      "  5.000005 seconds (55.25 M allocations: 9.965 GiB, 11.97% gc time)\n",
      "(396.7043800775278, [6, 5, 10, 11, 12, 17, 9, 20, 14, 3, 8, 7, 2, 19, 15, 13, 1, 16, 4, 18])\n",
      "(362.3478303531909, [14, 20, 8, 19, 15, 13, 1, 16, 5, 10, 11, 12, 9, 17, 6, 18, 4, 2, 7, 3])\n"
     ]
    }
   ],
   "source": [
    "Random.seed!(42);\n",
    "\n",
    "n_patients = 20\n",
    "coords = trim_cities(st70, n_patients);\n",
    "matrix = euclidean_distance_matrix(coords);\n",
    "tour = [i for i in 1:n_patients];\n",
    "\n",
    "# tweak with 2 opt.\n",
    "@time result1 = hill_climb_with_random_restarts(tour, matrix, time_limit=2.0,\n",
    "                                                tweak=tweak_two_opt)\n",
    "\n",
    "#reset random seed\n",
    "Random.seed!(42);\n",
    "\n",
    "#extra time\n",
    "@time result2 = hill_climb_with_random_restarts(tour, matrix, time_limit=5.0,\n",
    "                                                tweak=tweak_two_opt)\n",
    "\n",
    "println(result1)\n",
    "println(result2)"
   ]
  },
  {
   "cell_type": "code",
   "execution_count": null,
   "metadata": {},
   "outputs": [],
   "source": [
    "#weird behaviour on the parrallel run so use maxiter instead.\n",
    "@time random_restarts(tour, matrix, maxiter=5_000_000)"
   ]
  },
  {
   "cell_type": "code",
   "execution_count": null,
   "metadata": {},
   "outputs": [],
   "source": [
    "@time hill_climb_with_random_restarts(tour, matrix)"
   ]
  },
  {
   "cell_type": "code",
   "execution_count": null,
   "metadata": {},
   "outputs": [],
   "source": []
  },
  {
   "cell_type": "markdown",
   "metadata": {},
   "source": [
    "# Running the algorithms multiple times in parrallel\n",
    "\n",
    "Note the use of @everywhere in the function definitions. This means that different workers can access them."
   ]
  },
  {
   "cell_type": "code",
   "execution_count": 40,
   "metadata": {},
   "outputs": [],
   "source": [
    "# schedule the parallel jobs\n",
    "\n",
    "n_jobs = Sys.CPU_THREADS - 1\n",
    "jobs = []\n",
    "\n",
    "for i in 1:n_jobs\n",
    "    push!(jobs, remotecall(random_restarts, i+1, tour, matrix, maxiter=5_000_000))\n",
    "end"
   ]
  },
  {
   "cell_type": "code",
   "execution_count": 41,
   "metadata": {},
   "outputs": [
    {
     "data": {
      "text/plain": [
       "15-element Array{Any,1}:\n",
       " Future(2, 1, 380, nothing)\n",
       " Future(3, 1, 381, nothing)\n",
       " Future(4, 1, 382, nothing)\n",
       " Future(5, 1, 383, nothing)\n",
       " Future(6, 1, 384, nothing)\n",
       " Future(7, 1, 385, nothing)\n",
       " Future(8, 1, 386, nothing)\n",
       " Future(9, 1, 387, nothing)\n",
       " Future(10, 1, 388, nothing)\n",
       " Future(11, 1, 389, nothing)\n",
       " Future(12, 1, 390, nothing)\n",
       " Future(13, 1, 391, nothing)\n",
       " Future(14, 1, 392, nothing)\n",
       " Future(15, 1, 393, nothing)\n",
       " Future(16, 1, 394, nothing)"
      ]
     },
     "execution_count": 41,
     "metadata": {},
     "output_type": "execute_result"
    }
   ],
   "source": [
    "jobs"
   ]
  },
  {
   "cell_type": "code",
   "execution_count": 42,
   "metadata": {},
   "outputs": [
    {
     "name": "stdout",
     "output_type": "stream",
     "text": [
      "  1.009576 seconds (1.42 k allocations: 53.031 KiB)\n"
     ]
    },
    {
     "data": {
      "text/plain": [
       "15-element Array{Tuple{Float64,Array{Int64,1}},1}:\n",
       " (507.6272724833943, [15, 2, 4, 6, 5, 10, 9, 12, 17, 11, 1, 13, 16, 18, 19, 8, 20, 14, 3, 7])\n",
       " (510.22548190280025, [17, 10, 12, 5, 11, 1, 16, 13, 15, 19, 2, 4, 3, 20, 8, 7, 14, 6, 18, 9])\n",
       " (529.7590382968284, [9, 6, 4, 18, 15, 13, 1, 16, 10, 11, 5, 7, 2, 20, 8, 19, 14, 3, 12, 17])\n",
       " (515.7013623203869, [20, 14, 9, 12, 5, 11, 16, 1, 13, 10, 17, 6, 3, 18, 7, 19, 8, 4, 15, 2])\n",
       " (516.899529331729, [11, 10, 9, 17, 12, 3, 8, 19, 2, 7, 4, 20, 14, 18, 15, 13, 1, 16, 5, 6])\n",
       " (498.1969900233141, [10, 5, 1, 13, 16, 11, 12, 9, 17, 8, 18, 6, 2, 7, 19, 20, 14, 3, 15, 4])\n",
       " (517.9637773845324, [14, 20, 2, 18, 10, 11, 5, 16, 1, 13, 12, 6, 17, 9, 4, 7, 15, 19, 3, 8])\n",
       " (500.8471103351681, [4, 2, 7, 19, 15, 18, 9, 17, 20, 14, 6, 5, 11, 12, 10, 16, 1, 13, 3, 8])\n",
       " (485.87152480349073, [6, 11, 12, 20, 14, 3, 8, 2, 19, 7, 4, 18, 15, 1, 13, 16, 10, 5, 17, 9])\n",
       " (484.58061695450897, [11, 5, 16, 1, 13, 2, 19, 15, 18, 7, 3, 20, 14, 8, 4, 9, 17, 6, 12, 10])\n",
       " (524.1387244381983, [7, 19, 14, 20, 9, 4, 6, 10, 5, 18, 12, 17, 11, 16, 1, 13, 15, 2, 8, 3])\n",
       " (537.3972991333424, [18, 6, 10, 16, 1, 13, 5, 9, 12, 11, 17, 8, 20, 3, 7, 2, 15, 19, 4, 14])\n",
       " (520.0023954857832, [20, 14, 3, 9, 17, 10, 11, 12, 7, 15, 2, 18, 1, 13, 16, 5, 6, 4, 19, 8])\n",
       " (512.148313768913, [11, 10, 16, 13, 1, 5, 12, 17, 9, 3, 18, 6, 7, 2, 19, 4, 15, 8, 14, 20])\n",
       " (516.2583147165655, [19, 7, 18, 2, 4, 15, 13, 16, 11, 10, 5, 1, 12, 17, 6, 3, 14, 9, 20, 8])"
      ]
     },
     "execution_count": 42,
     "metadata": {},
     "output_type": "execute_result"
    }
   ],
   "source": [
    "#this is currently doing something odd when running with time!  so restrict to maxiter\n",
    "@time results = [fetch(job) for job in jobs]"
   ]
  },
  {
   "cell_type": "code",
   "execution_count": 23,
   "metadata": {},
   "outputs": [
    {
     "data": {
      "text/plain": [
       "Future(2, 1, 258, nothing)"
      ]
     },
     "execution_count": 23,
     "metadata": {},
     "output_type": "execute_result"
    }
   ],
   "source": [
    "job = remotecall(random_restarts, 2, tour, matrix, maxiter=5_000_000)\n",
    "fetch(job)"
   ]
  },
  {
   "cell_type": "code",
   "execution_count": 24,
   "metadata": {},
   "outputs": [
    {
     "data": {
      "text/plain": [
       "(519.0610284426596, [6, 12, 17, 9, 2, 4, 7, 15, 19, 8, 20, 14, 3, 5, 11, 13, 1, 16, 10, 18])"
      ]
     },
     "execution_count": 24,
     "metadata": {},
     "output_type": "execute_result"
    }
   ],
   "source": []
  },
  {
   "cell_type": "code",
   "execution_count": null,
   "metadata": {},
   "outputs": [],
   "source": []
  }
 ],
 "metadata": {
  "kernelspec": {
   "display_name": "Julia 1.5.0",
   "language": "julia",
   "name": "julia-1.5"
  },
  "language_info": {
   "file_extension": ".jl",
   "mimetype": "application/julia",
   "name": "julia",
   "version": "1.5.0"
  }
 },
 "nbformat": 4,
 "nbformat_minor": 4
}
