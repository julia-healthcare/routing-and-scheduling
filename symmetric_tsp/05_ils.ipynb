{
 "cells": [
  {
   "cell_type": "markdown",
   "metadata": {},
   "source": [
    "# Iterated Local Search ILS - applied to the TSP\n",
    "\n",
    "Iterated Local Search (ILS) is a meta-heuristic designed to overcome the problem of hill-climbing algorithms becoming stuck in local optima (good solutions, that are not the global optimum or best).  ILS runs hill-climbing algorithms multiple times and stochastically climbs (or descends) the hill of local-optima.  ILS has proven to be a highly effective meta-heuristic for the TSP.\n",
    "\n",
    "> We will implement ILS in Julia, enable parallel running of the algorithm and test it on a few different sized problems from [TSPLib](http://elib.zib.de/pub/mp-testdata/tsp/tsplib/tsplib.html).  You will see that it performs quite well!  The problems we will test are: berlin52, st70 and ch150."
   ]
  },
  {
   "cell_type": "markdown",
   "metadata": {},
   "source": [
    "# Add packages and imports"
   ]
  },
  {
   "cell_type": "code",
   "execution_count": 2,
   "metadata": {},
   "outputs": [],
   "source": [
    "using Distributed\n",
    "using DataFrames\n",
    "using CSV\n",
    "using LinearAlgebra"
   ]
  },
  {
   "cell_type": "markdown",
   "metadata": {},
   "source": [
    "## Set up parallell processes"
   ]
  },
  {
   "cell_type": "code",
   "execution_count": 3,
   "metadata": {},
   "outputs": [
    {
     "name": "stdout",
     "output_type": "stream",
     "text": [
      "1\n",
      "1\n",
      "15\n"
     ]
    }
   ],
   "source": [
    "#set up extra processes for parallel runs\n",
    "addprocs(Sys.CPU_THREADS - 1);\n",
    "println(nworkers())"
   ]
  },
  {
   "cell_type": "code",
   "execution_count": 4,
   "metadata": {},
   "outputs": [],
   "source": [
    "#run these after increasing processes so that they know about them!\n",
    "@everywhere using Random\n",
    "@everywhere using DataStructures"
   ]
  },
  {
   "cell_type": "markdown",
   "metadata": {},
   "source": [
    "# Load problem instances and optimal solutions"
   ]
  },
  {
   "cell_type": "code",
   "execution_count": 305,
   "metadata": {},
   "outputs": [],
   "source": [
    "#problem instances\n",
    "st70 = CSV.read(\"data/st70.csv\");\n",
    "berlin52 = CSV.read(\"data/berlin52.csv\");\n",
    "ch150 = CSV.read(\"data/ch150.csv\");\n",
    "\n",
    "#optimal tours\n",
    "berlin52_opt = CSV.read(\"data/berlin52_opt.csv\");\n",
    "st70_opt = CSV.read(\"data/st70_opt.csv\");\n",
    "ch150_opt = CSV.read(\"data/ch150_opt.csv\");"
   ]
  },
  {
   "cell_type": "markdown",
   "metadata": {},
   "source": [
    "# Basic TSP utility functions\n",
    "\n",
    "* **euclidean_distance_matrix** - compute cost matrix\n",
    "* **tour_cost** - compute cost of tour\n",
    "* **simple_tweak!** - swap two cities in tour\n",
    "* **two_opt_tweak!** - reverse two sections of a route"
   ]
  },
  {
   "cell_type": "code",
   "execution_count": 295,
   "metadata": {},
   "outputs": [
    {
     "data": {
      "text/plain": [
       "euclidean_distance_matrix"
      ]
     },
     "execution_count": 295,
     "metadata": {},
     "output_type": "execute_result"
    }
   ],
   "source": [
    "\"\"\"\n",
    "    euclidean_distance_matrix(cities)\n",
    "\n",
    "Compute a matrix of euclidean distances between\n",
    "city x, y coordinate pairs\n",
    "\n",
    "# Arguments\n",
    "- cities::Array: n x 2 matrix of x, y coordinates\n",
    "\n",
    "# Examples\n",
    "```julia-repl \n",
    "julia> using Random;\n",
    "\n",
    "julia> Random.seed!(42);\n",
    "\n",
    "julia> coords = rand(1:50, 5, 2)\n",
    "5×2 Array{Int64,2}:\n",
    " 16  42\n",
    " 10  15\n",
    " 44  36\n",
    " 32  42\n",
    " 28  39\n",
    "\n",
    "julia> euclidean_distance_matrix(coords)\n",
    "5×5 Array{Float64,2}:\n",
    "  0.0     27.6586  28.6356  16.0     12.3693\n",
    " 27.6586   0.0     39.9625  34.8281  30.0\n",
    " 28.6356  39.9625   0.0     13.4164  16.2788\n",
    " 16.0     34.8281  13.4164   0.0      5.0\n",
    " 12.3693  30.0     16.2788   5.0      0.0\n",
    "```\n",
    "\"\"\"\n",
    "function euclidean_distance_matrix(cities; as_integer=false)\n",
    "    nrows = size(cities)[1]\n",
    "    matrix = zeros(nrows, nrows)\n",
    "    \n",
    "    row = 1\n",
    "    \n",
    "    for city1 in 1:nrows\n",
    "        col = 1\n",
    "        for city2 in 1:nrows\n",
    "            if as_integer\n",
    "                matrix[row, col] = floor(norm(cities[city1, 1:2]-cities[city2, 1:2]))\n",
    "            else\n",
    "                matrix[row, col] = norm(cities[city1, 1:2]-cities[city2, 1:2])\n",
    "            end\n",
    "            col+=1\n",
    "        end\n",
    "        row +=1\n",
    "    end\n",
    "        \n",
    "    return matrix\n",
    "end"
   ]
  },
  {
   "cell_type": "code",
   "execution_count": 8,
   "metadata": {},
   "outputs": [
    {
     "data": {
      "text/plain": [
       "trim_cities (generic function with 1 method)"
      ]
     },
     "execution_count": 8,
     "metadata": {},
     "output_type": "execute_result"
    }
   ],
   "source": [
    "trim_cities(df, ncities) = Array(df[2:end])[1:ncities, :]"
   ]
  },
  {
   "cell_type": "code",
   "execution_count": 9,
   "metadata": {},
   "outputs": [],
   "source": [
    "@everywhere begin\n",
    "\"\"\"\n",
    "    tour_cost(tour, matrix)\n",
    "\n",
    "Compute the travel cost of tour using\n",
    "the cost matrix\n",
    "\"\"\"\n",
    "function tour_cost(tour, matrix)\n",
    "    cost = 0.0\n",
    "    for i in 1:size(tour)[1] - 1\n",
    "        cost += matrix[tour[i], tour[i+1]]\n",
    "    end\n",
    "    \n",
    "    cost += matrix[tour[end], tour[1]]\n",
    "    \n",
    "    return cost\n",
    "end\n",
    "    \n",
    "end"
   ]
  },
  {
   "cell_type": "code",
   "execution_count": 10,
   "metadata": {},
   "outputs": [],
   "source": [
    "@everywhere begin\n",
    "\"\"\"\n",
    "    simple_tweak!(tour)\n",
    "\n",
    "Simple swap of elemements in an array\n",
    "Note this modifies the input array\n",
    "This is more efficient than returning a copy.\n",
    "\"\"\"\n",
    "function simple_tweak!(tour, i, j)\n",
    "    tour[i], tour[j] = tour[j], tour[i]\n",
    "end\n",
    "    \n",
    "end"
   ]
  },
  {
   "cell_type": "code",
   "execution_count": 11,
   "metadata": {},
   "outputs": [],
   "source": [
    "@everywhere function tweak_two_opt!(tour, i, j)\n",
    "    reverse!(tour, i, j)\n",
    "end"
   ]
  },
  {
   "cell_type": "markdown",
   "metadata": {},
   "source": [
    "# Local Search Algorithms"
   ]
  },
  {
   "cell_type": "code",
   "execution_count": 12,
   "metadata": {},
   "outputs": [],
   "source": [
    "@everywhere begin\n",
    "\"\"\"\n",
    "    local_search(init_solution, matrix; time_limit=2.0, tweak!=simple_tweak!)\n",
    "\n",
    "First improvement local search\n",
    "\n",
    "Iteratively test candidate solutions in the neigbourhood\n",
    "of the best solution and adopt the first improvement found.\n",
    "Executes until time_limit is reached (default 2 seconds) or no improvements\n",
    "found.\n",
    "\n",
    "# Arguments\n",
    "\n",
    "- intial_solution::Array: initial tour\n",
    "- matrix::Array 2x2. costs of travel\n",
    "- time_limit::int64: maximum run time\n",
    "- tweak::func(tour::Array, i::Int, j::Int): tweak function modifies tour in place\n",
    "    default = simple_tweak!\n",
    "\n",
    "# Returns\n",
    "- Tuple (best_cost, best_solution)\n",
    "\n",
    "# Examples\n",
    "```julia-repl \n",
    "julia> using Random;\n",
    "\n",
    "julia> Random.seed!(42);\n",
    "\n",
    "julia> coords = rand(1:50, 5, 2)\n",
    "5×2 Array{Int64,2}:\n",
    " 16  42\n",
    " 10  15\n",
    " 44  36\n",
    " 32  42\n",
    " 28  39\n",
    "\n",
    "julia> matrix = euclidean_distance_matrix(coords)\n",
    "5×5 Array{Float64,2}:\n",
    "  0.0     27.6586  28.6356  16.0     12.3693\n",
    " 27.6586   0.0     39.9625  34.8281  30.0\n",
    " 28.6356  39.9625   0.0     13.4164  16.2788\n",
    " 16.0     34.8281  13.4164   0.0      5.0\n",
    " 12.3693  30.0     16.2788   5.0      0.0\n",
    "\n",
    "julia> tour = [i for i in 1:size(coords)[1]] \n",
    "5-element Array{Int64,1}:\n",
    " 1\n",
    " 2\n",
    " 3\n",
    " 4\n",
    " 5\n",
    "\n",
    "julia> local_search(shuffle(tour), matrix)\n",
    "(98.40684051910655, [1, 5, 4, 3, 2])\n",
    "```\n",
    "\"\"\"\n",
    "function local_search(init_solution, matrix; time_limit=2.0, \n",
    "                      tweak=simple_tweak!)\n",
    "        \n",
    "    best = copy(init_solution)\n",
    "    best_cost = -tour_cost(init_solution, matrix)\n",
    "    n_cities = size(init_solution)[1]\n",
    "    \n",
    "    #candidate solution\n",
    "    candidate = copy(init_solution)\n",
    "    \n",
    "    start = time()\n",
    "    improvement = true\n",
    "    \n",
    "    while improvement && (time() - start) < time_limit\n",
    "        improvement = false\n",
    "        \n",
    "        for city_i in 1:n_cities\n",
    "            for city_j in city_i+1:n_cities\n",
    "                tweak(candidate, city_i, city_j)\n",
    "                cost = -tour_cost(candidate, matrix)\n",
    "                \n",
    "                if cost > best_cost\n",
    "                    best, best_cost = candidate, cost\n",
    "                    improvement = true\n",
    "                else\n",
    "                    #reverse swap as no improvement\n",
    "                    tweak(candidate, city_i, city_j)\n",
    "                end\n",
    "            end\n",
    "        end\n",
    "    end\n",
    "    \n",
    "    return best_cost, best\n",
    "end\n",
    "   \n",
    "#end @everywhere\n",
    "end"
   ]
  },
  {
   "cell_type": "markdown",
   "metadata": {},
   "source": [
    "# Pertubation functions"
   ]
  },
  {
   "cell_type": "code",
   "execution_count": 13,
   "metadata": {},
   "outputs": [],
   "source": [
    "@everywhere begin\n",
    "\"\"\"\n",
    "    four_opt_tweak(tour)\n",
    "\n",
    "Perform a random 4-opt (\"double bridge\") move on a tour.\n",
    "        \n",
    "# Arguments:\n",
    "\n",
    "- tour: vector representing tour between cities e.g.\n",
    "        [1, 2, 3, 4, 5, 6, 7, 8, 9, 10]\n",
    "\n",
    "Returns:\n",
    "--------\n",
    "vector. representing the tour after stochastic 4-opt swap\n",
    "\"\"\"\n",
    "function four_opt_tweak(tour)\n",
    "\n",
    "    if typeof(tour) == Deque{Array}\n",
    "        println(\"here\")\n",
    "    end\n",
    "    \n",
    "    n = size(tour)[1]\n",
    "    segment_end = convert(Int, floor(n/3))\n",
    "\n",
    "    pos1 = rand(1:segment_end) \n",
    "    pos2 = pos1 + rand(1:segment_end)\n",
    "    pos3 = pos2 + rand(1:segment_end) \n",
    "\n",
    "    #useful to see how the function is splitting the array\n",
    "    #println(tour[1:pos1], tour[pos1+1:pos2], tour[pos2+1:pos3], tour[pos3+1:end])\n",
    "    \n",
    "    p1 = vcat(tour[1:pos1], tour[pos3+1:end])\n",
    "    p2 = vcat(tour[pos2+1:pos3], tour[pos1+1:pos2])\n",
    "    \n",
    "    return vcat(p1, p2)\n",
    "end\n",
    "\n",
    "#end @everywhere\n",
    "end"
   ]
  },
  {
   "cell_type": "code",
   "execution_count": 14,
   "metadata": {},
   "outputs": [],
   "source": [
    "@everywhere begin\n",
    "\"\"\"\n",
    "push history to Deque and pop old history\n",
    "\"\"\"\n",
    "function push_history!(to_add, history, max_length)\n",
    "    if length(history) == max_length\n",
    "        removed = popfirst!(history)\n",
    "    end\n",
    "\n",
    "    push!(history, to_add)\n",
    "end\n",
    "    \n",
    "end"
   ]
  },
  {
   "cell_type": "code",
   "execution_count": 15,
   "metadata": {},
   "outputs": [],
   "source": [
    "@everywhere begin\n",
    "    \n",
    "function tabu_four_opt_tweak(tour, history, tabu_size)\n",
    "    candidate = four_opt_tweak(tour)\n",
    "    \n",
    "    while candidate in history\n",
    "        candidate = four_opt_tweak(tour)\n",
    "    end\n",
    "    \n",
    "    push_history!(candidate, history, tabu_size)\n",
    "        \n",
    "    return candidate, history\n",
    "end\n",
    "    \n",
    "end"
   ]
  },
  {
   "cell_type": "markdown",
   "metadata": {},
   "source": [
    "# Home base functions"
   ]
  },
  {
   "cell_type": "code",
   "execution_count": 16,
   "metadata": {},
   "outputs": [],
   "source": [
    "@everywhere function random_homebase(home_base, home_cost, candidate, candidate_cost)\n",
    "    return candidate, candidate_cost\n",
    "end"
   ]
  },
  {
   "cell_type": "code",
   "execution_count": 17,
   "metadata": {},
   "outputs": [],
   "source": [
    "@everywhere function higher_quality_homebase(home_base, home_cost, candidate, candidate_cost)\n",
    "    if candidate_cost > home_cost\n",
    "        return candidate, candidate_cost\n",
    "    else\n",
    "        return home_base, home_cost\n",
    "    end\n",
    "end"
   ]
  },
  {
   "cell_type": "code",
   "execution_count": 132,
   "metadata": {},
   "outputs": [],
   "source": [
    "@everywhere function epsilon_greedy_homebase(home_base, home_cost, candidate, candidate_cost)\n",
    "    epsilon = 0.2\n",
    "    u = rand(0:1)\n",
    "    if u > epsilon\n",
    "        return higher_quality_homebase(home_base, home_cost, candidate, candidate_cost)\n",
    "    else\n",
    "        return random_homebase(home_base, home_cost, candidate, candidate_cost)\n",
    "    end\n",
    "end"
   ]
  },
  {
   "cell_type": "markdown",
   "metadata": {},
   "source": [
    "# Main ILS function"
   ]
  },
  {
   "cell_type": "code",
   "execution_count": 220,
   "metadata": {},
   "outputs": [],
   "source": [
    "@everywhere begin \n",
    "\n",
    "function iterated_local_search(init_solution, matrix;\n",
    "                               new_homebase=random_homebase, \n",
    "                               perturb=tabu_four_opt_tweak, maxiter=50,\n",
    "                               local_search=local_search,\n",
    "                               local_search_tweak=simple_tweak!,\n",
    "                               local_search_time_limit=2.0,\n",
    "                               tabu_size=10)\n",
    "\n",
    "    candidate = copy(init_solution)\n",
    "    home =  copy(candidate)\n",
    "    best = copy(candidate)\n",
    "    history = DataStructures.Deque{Array}()\n",
    "    improvements = 0\n",
    "    \n",
    "    home_cost = -tour_cost(init_solution, matrix)\n",
    "    best_cost = home_cost\n",
    "    \n",
    "    for i in 1:maxiter\n",
    "        \n",
    "        #first improvement hill climb\n",
    "        candidate_cost, candidate = local_search(candidate, matrix, \n",
    "                                                 tweak=local_search_tweak,\n",
    "                                                 time_limit=local_search_time_limit)\n",
    "        #is current iteration local optimum best result found?\n",
    "        if candidate_cost > best_cost\n",
    "            improvements += 1\n",
    "            best_cost = candidate_cost\n",
    "            best = copy(candidate)\n",
    "        end\n",
    "        \n",
    "        # update homebase\n",
    "        home, home_cost = new_homebase(home, home_cost, candidate, \n",
    "                                       candidate_cost)\n",
    "        \n",
    "        #take a big step away from homebase\n",
    "        candidate, history = perturb(home, history, tabu_size)\n",
    "    end\n",
    "    \n",
    "    return -best_cost, best, improvements\n",
    "end\n",
    "   \n",
    "#end @everywhere\n",
    "end"
   ]
  },
  {
   "cell_type": "markdown",
   "metadata": {},
   "source": [
    "# Example solution st70"
   ]
  },
  {
   "cell_type": "code",
   "execution_count": 310,
   "metadata": {},
   "outputs": [
    {
     "name": "stdout",
     "output_type": "stream",
     "text": [
      "  0.797401 seconds (52.34 k allocations: 4.737 MiB)\n",
      "  1.008313 seconds (52.33 k allocations: 4.735 MiB)\n",
      "  0.910385 seconds (54.34 k allocations: 4.781 MiB)\n",
      "  0.999775 seconds (54.34 k allocations: 4.783 MiB)\n",
      "  1.003820 seconds (54.34 k allocations: 4.783 MiB)\n",
      "  2.640295 seconds (13.13 M allocations: 8.191 GiB, 12.10% gc time)\n",
      "881.7498094607558\n",
      "682.3189820494508\n",
      "677.1944956452438\n",
      "678.9886291554694\n",
      "678.9886291554694\n",
      "677.1944956452439\n"
     ]
    }
   ],
   "source": [
    "seed = 19\n",
    "\n",
    "Random.seed!(seed);\n",
    "\n",
    "coords = trim_cities(st70, 70);\n",
    "matrix = euclidean_distance_matrix(coords, as_integer=false)\n",
    "tour = [i for i in 1:size(coords)[1]]\n",
    "tabu_size = 10\n",
    "\n",
    "iter = 1_000\n",
    "\n",
    "# add solution code\n",
    "@time result1 = iterated_local_search(shuffle(tour), matrix, maxiter=iter)\n",
    "\n",
    "Random.seed!(seed);\n",
    "@time result2 = iterated_local_search(shuffle(tour), matrix, \n",
    "                                      local_search_tweak=tweak_two_opt!, \n",
    "                                      maxiter=iter)\n",
    "\n",
    "Random.seed!(seed);\n",
    "@time result3 = iterated_local_search(shuffle(tour), matrix, \n",
    "                                      local_search_tweak=tweak_two_opt!, \n",
    "                                      maxiter=iter, \n",
    "                                      new_homebase=higher_quality_homebase)\n",
    "\n",
    "Random.seed!(seed);\n",
    "@time result4 = iterated_local_search(shuffle(tour), matrix, \n",
    "                                      local_search_tweak=tweak_two_opt!, \n",
    "                                      maxiter=iter, \n",
    "                                      new_homebase=epsilon_greedy_homebase)\n",
    "\n",
    "Random.seed!(seed);\n",
    "@time result5 = iterated_local_search(shuffle(tour), matrix, \n",
    "                                      local_search_tweak=tweak_two_opt!, \n",
    "                                      maxiter=iter, \n",
    "                                      new_homebase=epsilon_greedy_homebase,\n",
    "                                      tabu_size=tabu_size)\n",
    "\n",
    "Random.seed!(seed);\n",
    "@time result6 = iterated_local_search(shuffle(tour), matrix, \n",
    "                                      local_search_tweak=tweak_two_opt!, \n",
    "                                      maxiter=iter, \n",
    "                                      new_homebase=random_homebase,\n",
    "                                      local_search=steepest_ascent,\n",
    "                                      tabu_size=tabu_size)\n",
    "\n",
    "println(result1[1])\n",
    "println(result2[1])\n",
    "println(result3[1])\n",
    "println(result4[1])\n",
    "println(result5[1])\n",
    "println(result6[1])"
   ]
  },
  {
   "cell_type": "code",
   "execution_count": 311,
   "metadata": {},
   "outputs": [],
   "source": [
    "# schedule the parallel jobs\n",
    "\n",
    "iter = 5_000\n",
    "tabu_size = \n",
    "n_jobs = Sys.CPU_THREADS - 1\n",
    "jobs = []\n",
    "\n",
    "for i in 1:n_jobs\n",
    "    push!(jobs, remotecall(iterated_local_search, i+1, shuffle(tour), matrix, \n",
    "                           local_search_tweak=tweak_two_opt!, \n",
    "                           maxiter=iter, \n",
    "                           new_homebase=random_homebase, tabu_size=1))\n",
    "end"
   ]
  },
  {
   "cell_type": "code",
   "execution_count": 312,
   "metadata": {},
   "outputs": [
    {
     "name": "stdout",
     "output_type": "stream",
     "text": [
      " 11.096068 seconds (1.80 k allocations: 70.312 KiB)\n"
     ]
    },
    {
     "data": {
      "text/plain": [
       "15-element Array{Tuple{Float64,Array{Int64,1},Int64},1}:\n",
       " (677.1944956452439, [60, 52, 10, 5, 53, 6, 41, 43, 17, 9  …  64, 11, 67, 48, 54, 62, 33, 34, 21, 12], 7)\n",
       " (678.6207964799778, [63, 57, 15, 24, 19, 7, 2, 4, 18, 42  …  38, 69, 31, 13, 29, 70, 35, 59, 22, 66], 10)\n",
       " (677.194495645244, [32, 3, 8, 26, 55, 49, 28, 14, 20, 30  …  63, 57, 15, 24, 19, 7, 2, 4, 18, 42], 7)\n",
       " (677.1096092748468, [42, 32, 3, 8, 26, 55, 49, 28, 14, 20  …  66, 63, 57, 15, 24, 19, 7, 2, 4, 18], 13)\n",
       " (677.194495645244, [69, 35, 70, 13, 29, 36, 1, 23, 16, 47  …  19, 24, 15, 57, 63, 66, 22, 59, 38, 31], 7)\n",
       " (677.1096092748467, [53, 5, 10, 52, 60, 12, 21, 34, 33, 62  …  45, 25, 39, 61, 40, 9, 17, 43, 41, 6], 4)\n",
       " (677.1944956452438, [33, 34, 21, 12, 60, 52, 10, 5, 53, 6  …  50, 51, 56, 65, 64, 11, 67, 48, 54, 62], 6)\n",
       " (677.1944956452442, [42, 32, 3, 8, 26, 55, 49, 28, 14, 20  …  66, 63, 57, 15, 24, 19, 7, 2, 4, 18], 9)\n",
       " (677.1096092748468, [8, 26, 55, 49, 28, 14, 20, 30, 44, 68  …  15, 24, 19, 7, 2, 4, 18, 42, 32, 3], 8)\n",
       " (677.1096092748469, [22, 66, 63, 57, 15, 24, 19, 7, 2, 4  …  36, 23, 13, 29, 70, 35, 69, 31, 38, 59], 15)\n",
       " (677.1096092748467, [34, 21, 12, 60, 52, 10, 5, 53, 6, 41  …  51, 56, 65, 64, 11, 67, 48, 54, 62, 33], 3)\n",
       " (677.1096092748468, [28, 49, 55, 26, 8, 3, 32, 42, 18, 4  …  39, 25, 45, 46, 27, 68, 44, 30, 20, 14], 6)\n",
       " (678.4246188852346, [17, 9, 40, 61, 39, 25, 45, 46, 27, 68  …  12, 33, 60, 52, 10, 5, 53, 6, 41, 43], 10)\n",
       " (677.1096092748468, [47, 37, 58, 50, 51, 56, 65, 64, 11, 67  …  31, 69, 35, 70, 29, 13, 23, 36, 1, 16], 13)\n",
       " (678.4246188852346, [53, 5, 10, 52, 60, 33, 12, 21, 34, 62  …  45, 25, 39, 61, 40, 9, 17, 43, 41, 6], 12)"
      ]
     },
     "execution_count": 312,
     "metadata": {},
     "output_type": "execute_result"
    }
   ],
   "source": [
    "#this is currently doing something odd when running with time!  so restrict to maxiter\n",
    "@time results = [fetch(job) for job in jobs]"
   ]
  },
  {
   "cell_type": "code",
   "execution_count": 303,
   "metadata": {},
   "outputs": [
    {
     "data": {
      "text/plain": [
       "result_summary (generic function with 2 methods)"
      ]
     },
     "execution_count": 303,
     "metadata": {},
     "output_type": "execute_result"
    }
   ],
   "source": [
    "function result_summary(results, best_known)\n",
    "    total_cost = 0.0\n",
    "    best = Inf\n",
    "    worst = 1.0\n",
    "    \n",
    "    for result in results\n",
    "        cost, solution = result[1], result[2]\n",
    "        total_cost += cost\n",
    "        \n",
    "        if cost < best\n",
    "            best = cost\n",
    "        end\n",
    "        \n",
    "        if cost > worst\n",
    "            worst = cost\n",
    "        end\n",
    "    end\n",
    "    mean = total_cost / length(results)\n",
    "    return mean, best, worst, (mean / best_known)\n",
    "end"
   ]
  },
  {
   "cell_type": "code",
   "execution_count": 313,
   "metadata": {},
   "outputs": [
    {
     "data": {
      "text/plain": [
       "678.5974520966245"
      ]
     },
     "execution_count": 313,
     "metadata": {},
     "output_type": "execute_result"
    }
   ],
   "source": [
    "optimal = tour_cost(Array(st70_opt), matrix)"
   ]
  },
  {
   "cell_type": "code",
   "execution_count": 314,
   "metadata": {},
   "outputs": [
    {
     "data": {
      "text/plain": [
       "(677.4139851600395, 677.1096092748467, 678.6207964799778, 1.0035762743111696)"
      ]
     },
     "execution_count": 314,
     "metadata": {},
     "output_type": "execute_result"
    }
   ],
   "source": [
    "result_summary(results, 675)"
   ]
  },
  {
   "cell_type": "markdown",
   "metadata": {},
   "source": [
    "# Berlin 52 dataset"
   ]
  },
  {
   "cell_type": "code",
   "execution_count": 296,
   "metadata": {},
   "outputs": [
    {
     "name": "stdout",
     "output_type": "stream",
     "text": [
      "  1.599853 seconds (262.30 k allocations: 19.711 MiB)\n",
      "  1.724120 seconds (262.30 k allocations: 19.714 MiB, 0.46% gc time)\n",
      "  1.683521 seconds (272.46 k allocations: 19.956 MiB)\n",
      "  1.743715 seconds (272.34 k allocations: 19.945 MiB, 0.37% gc time)\n",
      "  1.741350 seconds (272.34 k allocations: 19.945 MiB)\n",
      "  1.725843 seconds (262.30 k allocations: 19.714 MiB, 0.32% gc time)\n",
      "8255.0\n",
      "7526.0\n",
      "7526.0\n",
      "7526.0\n",
      "7526.0\n",
      "7526.0\n"
     ]
    }
   ],
   "source": [
    "seed = 19\n",
    "\n",
    "Random.seed!(seed);\n",
    "\n",
    "coords = trim_cities(berlin52, 52);\n",
    "matrix = euclidean_distance_matrix(coords, as_integer=true)\n",
    "tour = [i for i in 1:size(coords)[1]]\n",
    "tabu_size = 10\n",
    "\n",
    "iter = 5_000\n",
    "\n",
    "# add solution code\n",
    "@time result1 = iterated_local_search(shuffle(tour), matrix, maxiter=iter)\n",
    "\n",
    "Random.seed!(seed);\n",
    "@time result2 = iterated_local_search(shuffle(tour), matrix, \n",
    "                                      local_search_tweak=tweak_two_opt!, \n",
    "                                      maxiter=iter)\n",
    "\n",
    "Random.seed!(seed);\n",
    "@time result3 = iterated_local_search(shuffle(tour), matrix, \n",
    "                                      local_search_tweak=tweak_two_opt!, \n",
    "                                      maxiter=iter, \n",
    "                                      new_homebase=higher_quality_homebase)\n",
    "\n",
    "Random.seed!(seed);\n",
    "@time result4 = iterated_local_search(shuffle(tour), matrix, \n",
    "                                      local_search_tweak=tweak_two_opt!, \n",
    "                                      maxiter=iter, \n",
    "                                      new_homebase=epsilon_greedy_homebase)\n",
    "\n",
    "Random.seed!(seed);\n",
    "@time result5 = iterated_local_search(shuffle(tour), matrix, \n",
    "                                      local_search_tweak=tweak_two_opt!, \n",
    "                                      maxiter=iter, \n",
    "                                      new_homebase=epsilon_greedy_homebase,\n",
    "                                      tabu_size=tabu_size)\n",
    "\n",
    "Random.seed!(seed);\n",
    "@time result6 = iterated_local_search(shuffle(tour), matrix, \n",
    "                                      local_search_tweak=tweak_two_opt!, \n",
    "                                      maxiter=iter, \n",
    "                                      new_homebase=random_homebase,\n",
    "                                      tabu_size=tabu_size)\n",
    "\n",
    "println(result1[1])\n",
    "println(result2[1])\n",
    "println(result3[1])\n",
    "println(result4[1])\n",
    "println(result5[1])\n",
    "println(result6[1])"
   ]
  },
  {
   "cell_type": "code",
   "execution_count": 297,
   "metadata": {},
   "outputs": [],
   "source": [
    "# schedule the parallel jobs\n",
    "\n",
    "iter = 5_000\n",
    "tabu_size = 100\n",
    "n_jobs = Sys.CPU_THREADS - 1\n",
    "jobs = []\n",
    "\n",
    "for i in 1:n_jobs\n",
    "    push!(jobs, remotecall(iterated_local_search, i+1, shuffle(tour), matrix, \n",
    "                           local_search_tweak=tweak_two_opt!, \n",
    "                           maxiter=iter, \n",
    "                           new_homebase=epsilon_greedy_homebase, \n",
    "                           tabu_size=tabu_size))\n",
    "end"
   ]
  },
  {
   "cell_type": "code",
   "execution_count": 298,
   "metadata": {},
   "outputs": [
    {
     "name": "stdout",
     "output_type": "stream",
     "text": [
      "  4.080734 seconds (1.55 k allocations: 59.781 KiB)\n"
     ]
    },
    {
     "data": {
      "text/plain": [
       "15-element Array{Tuple{Float64,Array{Int64,1},Int64},1}:\n",
       " (7526.0, [14, 13, 47, 26, 27, 28, 12, 25, 4, 6  …  19, 41, 8, 9, 10, 43, 33, 51, 11, 52], 5)\n",
       " (7526.0, [13, 47, 26, 27, 28, 12, 25, 4, 6, 15  …  41, 8, 9, 10, 43, 33, 51, 11, 52, 14], 11)\n",
       " (7526.0, [44, 46, 16, 29, 50, 20, 23, 30, 2, 7  …  5, 24, 48, 38, 37, 40, 39, 36, 35, 34], 4)\n",
       " (7526.0, [1, 22, 31, 18, 3, 17, 21, 42, 7, 2  …  33, 43, 10, 9, 8, 41, 19, 45, 32, 49], 7)\n",
       " (7526.0, [10, 43, 33, 51, 11, 52, 14, 13, 47, 26  …  31, 22, 1, 49, 32, 45, 19, 41, 8, 9], 11)\n",
       " (7526.0, [4, 6, 15, 5, 24, 48, 38, 37, 40, 39  …  11, 52, 14, 13, 47, 26, 27, 28, 12, 25], 11)\n",
       " (7526.0, [50, 20, 23, 30, 2, 7, 42, 21, 17, 3  …  37, 40, 39, 36, 35, 34, 44, 46, 16, 29], 6)\n",
       " (7526.0, [22, 1, 49, 32, 45, 19, 41, 8, 9, 10  …  23, 30, 2, 7, 42, 21, 17, 3, 18, 31], 6)\n",
       " (7526.0, [7, 42, 21, 17, 3, 18, 31, 22, 1, 49  …  34, 44, 46, 16, 29, 50, 20, 23, 30, 2], 7)\n",
       " (7526.0, [30, 2, 7, 42, 21, 17, 3, 18, 31, 22  …  36, 35, 34, 44, 46, 16, 29, 50, 20, 23], 4)\n",
       " (7526.0, [20, 50, 29, 16, 46, 44, 34, 35, 36, 39  …  31, 18, 3, 17, 21, 42, 7, 2, 30, 23], 14)\n",
       " (7526.0, [29, 16, 46, 44, 34, 35, 36, 39, 40, 37  …  3, 17, 21, 42, 7, 2, 30, 23, 20, 50], 9)\n",
       " (7526.0, [3, 18, 31, 22, 1, 49, 32, 45, 19, 41  …  29, 50, 20, 23, 30, 2, 7, 42, 21, 17], 7)\n",
       " (7526.0, [41, 8, 9, 10, 43, 33, 51, 11, 52, 14  …  17, 3, 18, 31, 22, 1, 49, 32, 45, 19], 7)\n",
       " (7526.0, [49, 32, 45, 19, 41, 8, 9, 10, 43, 33  …  2, 7, 42, 21, 17, 3, 18, 31, 22, 1], 15)"
      ]
     },
     "execution_count": 298,
     "metadata": {},
     "output_type": "execute_result"
    }
   ],
   "source": [
    "@time results = [fetch(job) for job in jobs]"
   ]
  },
  {
   "cell_type": "code",
   "execution_count": 299,
   "metadata": {},
   "outputs": [
    {
     "data": {
      "text/plain": [
       "(7526.0, 7526.0, 7526.0, 1.0)"
      ]
     },
     "execution_count": 299,
     "metadata": {},
     "output_type": "execute_result"
    }
   ],
   "source": [
    "optimal_cost = tour_cost(Array(berlin52_opt), matrix);\n",
    "\n",
    "result_summary(results, optimal_cost)"
   ]
  },
  {
   "cell_type": "markdown",
   "metadata": {},
   "source": [
    "# ch150 instance - 150 cities"
   ]
  },
  {
   "cell_type": "code",
   "execution_count": 315,
   "metadata": {},
   "outputs": [
    {
     "name": "stdout",
     "output_type": "stream",
     "text": [
      "  1.023444 seconds (5.06 k allocations: 837.859 KiB)\n",
      "  0.949628 seconds (5.05 k allocations: 833.875 KiB)\n",
      "  0.954236 seconds (5.26 k allocations: 843.891 KiB)\n",
      "  0.945501 seconds (5.25 k allocations: 835.938 KiB)\n",
      "  0.939516 seconds (5.25 k allocations: 835.969 KiB)\n",
      "  0.935753 seconds (5.05 k allocations: 833.906 KiB)\n",
      "10274.0\n",
      "6697.0\n",
      "6615.0\n",
      "6720.0\n",
      "6720.0\n",
      "6697.0\n"
     ]
    }
   ],
   "source": [
    "seed = 19\n",
    "\n",
    "Random.seed!(seed);\n",
    "\n",
    "coords = trim_cities(ch150, 150);\n",
    "matrix = euclidean_distance_matrix(coords, as_integer=true)\n",
    "tour = [i for i in 1:size(coords)[1]]\n",
    "tabu_size = 10\n",
    "\n",
    "iter = 100\n",
    "\n",
    "# add solution code\n",
    "@time result1 = iterated_local_search(shuffle(tour), matrix, maxiter=iter)\n",
    "\n",
    "Random.seed!(seed);\n",
    "@time result2 = iterated_local_search(shuffle(tour), matrix, \n",
    "                                      local_search_tweak=tweak_two_opt!, \n",
    "                                      maxiter=iter)\n",
    "\n",
    "Random.seed!(seed);\n",
    "@time result3 = iterated_local_search(shuffle(tour), matrix, \n",
    "                                      local_search_tweak=tweak_two_opt!, \n",
    "                                      maxiter=iter, \n",
    "                                      new_homebase=higher_quality_homebase)\n",
    "\n",
    "Random.seed!(seed);\n",
    "@time result4 = iterated_local_search(shuffle(tour), matrix, \n",
    "                                      local_search_tweak=tweak_two_opt!, \n",
    "                                      maxiter=iter, \n",
    "                                      new_homebase=epsilon_greedy_homebase)\n",
    "\n",
    "Random.seed!(seed);\n",
    "@time result5 = iterated_local_search(shuffle(tour), matrix, \n",
    "                                      local_search_tweak=tweak_two_opt!, \n",
    "                                      maxiter=iter, \n",
    "                                      new_homebase=epsilon_greedy_homebase,\n",
    "                                      tabu_size=tabu_size)\n",
    "\n",
    "Random.seed!(seed);\n",
    "@time result6 = iterated_local_search(shuffle(tour), matrix, \n",
    "                                      local_search_tweak=tweak_two_opt!, \n",
    "                                      maxiter=iter, \n",
    "                                      new_homebase=random_homebase,\n",
    "                                      tabu_size=tabu_size)\n",
    "\n",
    "println(result1[1])\n",
    "println(result2[1])\n",
    "println(result3[1])\n",
    "println(result4[1])\n",
    "println(result5[1])\n",
    "println(result6[1])"
   ]
  },
  {
   "cell_type": "code",
   "execution_count": 336,
   "metadata": {},
   "outputs": [],
   "source": [
    "# schedule the parallel jobs\n",
    "\n",
    "coords = trim_cities(ch150, 150);\n",
    "matrix = euclidean_distance_matrix(coords, as_integer=true)\n",
    "tour = [i for i in 1:size(coords)[1]]\n",
    "\n",
    "iter = 5_000\n",
    "tabu_size = 200\n",
    "n_jobs = Sys.CPU_THREADS - 1\n",
    "jobs = []\n",
    "\n",
    "for i in 1:n_jobs\n",
    "    push!(jobs, remotecall(iterated_local_search, i+1, shuffle(tour), matrix, \n",
    "                           local_search_tweak=tweak_two_opt!, \n",
    "                           maxiter=iter,\n",
    "                           new_homebase=epsilon_greedy_homebase, \n",
    "                           tabu_size=tabu_size))\n",
    "end"
   ]
  },
  {
   "cell_type": "code",
   "execution_count": 330,
   "metadata": {},
   "outputs": [
    {
     "name": "stdout",
     "output_type": "stream",
     "text": [
      "113.910926 seconds (4.93 k allocations: 181.578 KiB)\n"
     ]
    },
    {
     "data": {
      "text/plain": [
       "15-element Array{Tuple{Float64,Array{Int64,1},Int64},1}:\n",
       " (6559.0, [73, 76, 34, 87, 1, 98, 103, 82, 95, 107  …  124, 35, 96, 89, 8, 7, 84, 30, 63, 48], 12)\n",
       " (6561.0, [64, 21, 88, 94, 10, 113, 3, 62, 149, 125  …  122, 14, 80, 72, 49, 147, 144, 145, 136, 112], 14)\n",
       " (6545.0, [15, 78, 21, 150, 115, 4, 104, 22, 125, 149  …  145, 144, 147, 49, 72, 80, 14, 122, 77, 133], 11)\n",
       " (6571.0, [123, 31, 27, 129, 23, 38, 32, 131, 67, 109  …  44, 71, 45, 128, 68, 119, 91, 106, 13, 74], 7)\n",
       " (6527.0, [128, 68, 119, 91, 106, 13, 74, 123, 31, 27  …  113, 3, 62, 149, 125, 22, 104, 4, 45, 71], 12)\n",
       " (6479.0, [72, 49, 147, 144, 145, 136, 112, 64, 44, 71  …  115, 150, 21, 78, 15, 133, 77, 122, 14, 80], 13)\n",
       " (6532.0, [42, 9, 28, 6, 37, 2, 19, 99, 114, 102  …  101, 116, 12, 24, 118, 53, 40, 139, 47, 120], 17)\n",
       " (6510.0, [57, 39, 127, 69, 36, 61, 11, 148, 130, 17  …  47, 139, 40, 53, 118, 24, 12, 116, 101, 41], 16)\n",
       " (6544.0, [90, 46, 138, 134, 109, 51, 20, 25, 47, 110  …  5, 100, 143, 97, 124, 93, 126, 33, 92, 54], 12)\n",
       " (6537.0, [145, 72, 80, 14, 122, 77, 133, 15, 78, 21  …  91, 119, 68, 128, 45, 71, 44, 64, 112, 136], 11)\n",
       " (6503.0, [21, 78, 15, 133, 77, 122, 14, 80, 72, 49  …  113, 3, 62, 149, 125, 22, 104, 4, 115, 150], 15)\n",
       " (6542.0, [132, 137, 50, 55, 58, 141, 83, 90, 46, 92  …  143, 97, 146, 56, 26, 75, 18, 142, 85, 65], 13)\n",
       " (6526.0, [60, 66, 17, 130, 148, 11, 61, 36, 69, 127  …  43, 12, 24, 116, 101, 39, 57, 41, 117, 140], 14)\n",
       " (6544.0, [52, 105, 111, 16, 133, 15, 78, 59, 79, 121  …  48, 63, 30, 84, 7, 8, 89, 96, 35, 93], 14)\n",
       " (6528.0, [44, 64, 112, 136, 145, 144, 147, 49, 72, 80  …  91, 119, 68, 128, 4, 104, 150, 115, 45, 71], 17)"
      ]
     },
     "execution_count": 330,
     "metadata": {},
     "output_type": "execute_result"
    }
   ],
   "source": [
    "@time results = [fetch(job) for job in jobs]"
   ]
  },
  {
   "cell_type": "code",
   "execution_count": 331,
   "metadata": {},
   "outputs": [
    {
     "data": {
      "text/plain": [
       "(6533.866666666667, 6479.0, 6571.0, 1.0112779239539804)"
      ]
     },
     "execution_count": 331,
     "metadata": {},
     "output_type": "execute_result"
    }
   ],
   "source": [
    "optimal_cost = tour_cost(Array(ch150_opt), matrix)\n",
    "\n",
    "result_summary(results, optimal_cost)"
   ]
  },
  {
   "cell_type": "code",
   "execution_count": 337,
   "metadata": {},
   "outputs": [
    {
     "data": {
      "text/plain": [
       "6461.0"
      ]
     },
     "execution_count": 337,
     "metadata": {},
     "output_type": "execute_result"
    }
   ],
   "source": [
    "optimal_cost = tour_cost(Array(ch150_opt)[1:end], matrix)"
   ]
  }
 ],
 "metadata": {
  "kernelspec": {
   "display_name": "Julia 1.5.0",
   "language": "julia",
   "name": "julia-1.5"
  },
  "language_info": {
   "file_extension": ".jl",
   "mimetype": "application/julia",
   "name": "julia",
   "version": "1.5.0"
  }
 },
 "nbformat": 4,
 "nbformat_minor": 4
}
